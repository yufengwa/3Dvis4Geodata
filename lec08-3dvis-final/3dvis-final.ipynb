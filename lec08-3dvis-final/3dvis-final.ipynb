{
 "cells": [
  {
   "cell_type": "markdown",
   "metadata": {
    "slideshow": {
     "slide_type": "slide"
    }
   },
   "source": [
    "# <center>地学数据三维可视化-大作业汇报</center>\n",
    "<br/>\n",
    "\n",
    "<center><img src=\"./fig/sheldon-throw.gif\" style=\"float: center; height:300px\" /><center>\n",
    "<br/>\n",
    "\n",
    "<div style=\"clear: both\"></div>\n",
    "<center>汪宇锋</center>\n",
    "<div style=\"clear: both\"></div>\n",
    "<center>地球物理与空间信息学院</center>\n",
    "<div style=\"clear: both\"></div>\n",
    "<center>2021年12月</center>"
   ]
  },
  {
   "cell_type": "markdown",
   "metadata": {
    "slideshow": {
     "slide_type": "slide"
    }
   },
   "source": [
    "## 大作业说明\n",
    "\n",
    "- 本次课程中介绍了基于Madagascar、vispy、pyvista、vedo、Mayavi和Paraview的三维可视化方法；\n",
    "- 其中Madagascar和vispy实现的是三维切片数据，不适合做实际多地球物理场数据的三维可视化；\n",
    "- pyvista和vedo均可实现多地球物理场数据的三维可视化，课程中反馈vedo更加方便安装和使用；\n",
    "- 本课程的大作业要求学生采用vedo（也可以选择pyvista）来实现一个地热观测场多地球物理数据三维可视化成果。"
   ]
  },
  {
   "cell_type": "markdown",
   "metadata": {
    "slideshow": {
     "slide_type": "subslide"
    }
   },
   "source": [
    "## 地热观测场多地球物理数据三维可视化\n",
    "\n",
    "- 地热观测场的地球物理数据可在[**Geothermal Data Repository**](https://gdr.openei.org/home)中下载；\n",
    "- 地球物理数据包括：地形数据、地震数据、测井数据、地质建模数据等；\n",
    "- 大作业在Jupyter-Notebook中完成，最终的可视化结果以HTML的格式保存；\n",
    "- 各个小组答辩的大作业报告需要包括以下内容：\n",
    "    + 数据准备和说明；\n",
    "    + 逐步可视化流程；\n",
    "    + 地球数据解释；\n",
    "    + 总结。\n"
   ]
  },
  {
   "cell_type": "markdown",
   "metadata": {
    "slideshow": {
     "slide_type": "slide"
    }
   },
   "source": [
    "## 实例展示\n",
    "\n",
    "- [Utah FORGE Earth Model](https://view.seequent.com/embed/rvidnra2r5uiv421rwjk/default/ff7p6ch7jcamep3fq6n8)\n"
   ]
  },
  {
   "cell_type": "code",
   "execution_count": 1,
   "metadata": {
    "slideshow": {
     "slide_type": "fragment"
    }
   },
   "outputs": [
    {
     "name": "stderr",
     "output_type": "stream",
     "text": [
      "/Users/wangyufeng/opt/anaconda3/envs/3dvis4geodata/lib/python3.9/site-packages/IPython/core/display.py:724: UserWarning: Consider using IPython.display.IFrame instead\n",
      "  warnings.warn(\"Consider using IPython.display.IFrame instead\")\n"
     ]
    },
    {
     "data": {
      "text/html": [
       "<iframe width=\"560\" height=\"315\" src=\"https://www.youtube-nocookie.com/embed/KHSCg4fdhEA\" title=\"YouTube video player\" frameborder=\"0\" allow=\"accelerometer; autoplay; clipboard-write; encrypted-media; gyroscope; picture-in-picture\" allowfullscreen></iframe>"
      ],
      "text/plain": [
       "<IPython.core.display.HTML object>"
      ]
     },
     "execution_count": 1,
     "metadata": {},
     "output_type": "execute_result"
    }
   ],
   "source": [
    "from IPython.display import HTML\n",
    "HTML('<iframe width=\"560\" height=\"315\" src=\"https://www.youtube-nocookie.com/embed/KHSCg4fdhEA\" title=\"YouTube video player\" frameborder=\"0\" allow=\"accelerometer; autoplay; clipboard-write; encrypted-media; gyroscope; picture-in-picture\" allowfullscreen></iframe>')"
   ]
  },
  {
   "cell_type": "markdown",
   "metadata": {
    "slideshow": {
     "slide_type": "subslide"
    }
   },
   "source": [
    "## Dataset for Utah FORGE\n",
    "\n",
    "All of the data is from the publicly available **Geothermal Data Repository** (https://gdr.openei.org/home) uploaded by the Energy and Geoscience Institute at the University of Utah.\n",
    "\n",
    "1. Surfaces data: \"Earth Model Mesh Data for Selected Surfaces\", https://gdr.openei.org/submissions/1107\n",
    "2. \"Well 58-32 Injection Test Data\", https://gdr.openei.org/submissions/1109\n",
    "3. Well data and surfaces data: \"Utah FORGE: Well Data for Student Competition\", https://gdr.openei.org/submissions/1111\n",
    "4. Microseismic data: \"Utah FORGE: Microseismic Events\", https://gdr.openei.org/submissions/1151\n",
    "5. Seismic Data: \"Utah FORGE: Seismic Reflection Data\", https://gdr.openei.org/submissions/1141\n"
   ]
  }
 ],
 "metadata": {
  "celltoolbar": "Slideshow",
  "kernelspec": {
   "display_name": "Python 3 (ipykernel)",
   "language": "python",
   "name": "python3"
  },
  "language_info": {
   "codemirror_mode": {
    "name": "ipython",
    "version": 3
   },
   "file_extension": ".py",
   "mimetype": "text/x-python",
   "name": "python",
   "nbconvert_exporter": "python",
   "pygments_lexer": "ipython3",
   "version": "3.8.8"
  },
  "livereveal": {
   "autolaunch": true,
   "scroll": true,
   "start_slideshow_at": "selected"
  }
 },
 "nbformat": 4,
 "nbformat_minor": 2
}
