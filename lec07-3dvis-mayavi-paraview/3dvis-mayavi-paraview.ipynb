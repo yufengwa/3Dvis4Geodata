{
 "cells": [
  {
   "cell_type": "markdown",
   "metadata": {
    "slideshow": {
     "slide_type": "skip"
    }
   },
   "source": [
    "地学数据三维可视化课件第七节：Mayavi&ParaView"
   ]
  },
  {
   "cell_type": "markdown",
   "metadata": {
    "slideshow": {
     "slide_type": "slide"
    }
   },
   "source": [
    "# <center>地学数据三维可视化-Mayavi&ParaView</center>\n",
    "<br/>\n",
    "\n",
    "<center><img src=\"./fig/ParaView-MoshaFault.gif\" style=\"float: center; height:200px\" /><center>\n",
    "<br/>\n",
    "\n",
    "<div style=\"clear: both\"></div>\n",
    "<center>汪宇锋</center>\n",
    "<div style=\"clear: both\"></div>\n",
    "<center>地球物理与空间信息学院</center>\n",
    "<div style=\"clear: both\"></div>\n",
    "<center>2021年11月</center>"
   ]
  },
  {
   "cell_type": "markdown",
   "metadata": {
    "slideshow": {
     "slide_type": "slide"
    }
   },
   "source": [
    "## [What is ParaView?](https://www.paraview.org/)\n",
    "\n",
    "- An open-source, scalable, multi-platform visualization application.\n",
    "- Support for distributed computation models to process large data sets.\n",
    "- An open, flexible, and intuitive user interface.\n",
    "- An extensible, modular architecture based on open standards.\n",
    "- A flexible BSD 3 Clause license\n",
    "- Commercial maintenance and support."
   ]
  },
  {
   "cell_type": "markdown",
   "metadata": {
    "slideshow": {
     "slide_type": "subslide"
    }
   },
   "source": [
    "<center><img src=\"./fig/scivis.png\" style=\"float: center; height:600px\" /><center>"
   ]
  },
  {
   "cell_type": "code",
   "execution_count": 1,
   "metadata": {
    "slideshow": {
     "slide_type": "subslide"
    }
   },
   "outputs": [
    {
     "name": "stderr",
     "output_type": "stream",
     "text": [
      "/Users/wangyufeng/opt/anaconda3/envs/3dvis4geodata/lib/python3.9/site-packages/IPython/core/display.py:724: UserWarning: Consider using IPython.display.IFrame instead\n",
      "  warnings.warn(\"Consider using IPython.display.IFrame instead\")\n"
     ]
    },
    {
     "data": {
      "text/html": [
       "<iframe width=\"560\" height=\"315\" src=\"https://www.youtube-nocookie.com/embed/Y1RATo2swM8\" title=\"YouTube video player\" frameborder=\"0\" allow=\"accelerometer; autoplay; clipboard-write; encrypted-media; gyroscope; picture-in-picture\" allowfullscreen></iframe>"
      ],
      "text/plain": [
       "<IPython.core.display.HTML object>"
      ]
     },
     "execution_count": 1,
     "metadata": {},
     "output_type": "execute_result"
    }
   ],
   "source": [
    "from IPython.display import HTML\n",
    "HTML('<iframe width=\"560\" height=\"315\" src=\"https://www.youtube-nocookie.com/embed/Y1RATo2swM8\" title=\"YouTube video player\" frameborder=\"0\" allow=\"accelerometer; autoplay; clipboard-write; encrypted-media; gyroscope; picture-in-picture\" allowfullscreen></iframe>')"
   ]
  },
  {
   "cell_type": "markdown",
   "metadata": {
    "slideshow": {
     "slide_type": "slide"
    }
   },
   "source": [
    "## [What is Mayavi2?](https://docs.enthought.com/mayavi/mayavi/overview.html#what-is-mayavi2)\n",
    "\n",
    "<font size=6>\n",
    "\n",
    "Mayavi2 is a general purpose, cross-platform tool for 3-D scientific data visualization. Its features include:\n",
    "- Visualization of scalar, vector and tensor data in 2 and 3 dimensions.\n",
    "- Easy scriptability using Python.\n",
    "- Easy extendibility via custom sources, modules, and data filters.\n",
    "- Reading several file formats: VTK (legacy and XML), PLOT3D, etc.\n",
    "- Saving rendered visualization in a variety of image formats.\n",
    "    </font>"
   ]
  },
  {
   "cell_type": "code",
   "execution_count": 2,
   "metadata": {
    "slideshow": {
     "slide_type": "subslide"
    }
   },
   "outputs": [
    {
     "data": {
      "text/html": [
       "<iframe width=\"560\" height=\"315\" src=\"https://www.youtube-nocookie.com/embed/qGyXbNKPXqI\" title=\"YouTube video player\" frameborder=\"0\" allow=\"accelerometer; autoplay; clipboard-write; encrypted-media; gyroscope; picture-in-picture\" allowfullscreen></iframe>"
      ],
      "text/plain": [
       "<IPython.core.display.HTML object>"
      ]
     },
     "execution_count": 2,
     "metadata": {},
     "output_type": "execute_result"
    }
   ],
   "source": [
    "from IPython.display import HTML\n",
    "HTML('<iframe width=\"560\" height=\"315\" src=\"https://www.youtube-nocookie.com/embed/qGyXbNKPXqI\" title=\"YouTube video player\" frameborder=\"0\" allow=\"accelerometer; autoplay; clipboard-write; encrypted-media; gyroscope; picture-in-picture\" allowfullscreen></iframe>')"
   ]
  },
  {
   "cell_type": "code",
   "execution_count": 3,
   "metadata": {
    "slideshow": {
     "slide_type": "subslide"
    }
   },
   "outputs": [
    {
     "data": {
      "text/html": [
       "<iframe width=\"560\" height=\"315\" src=\"https://www.youtube-nocookie.com/embed/PFOd01fqcyQ\" title=\"YouTube video player\" frameborder=\"0\" allow=\"accelerometer; autoplay; clipboard-write; encrypted-media; gyroscope; picture-in-picture\" allowfullscreen></iframe>"
      ],
      "text/plain": [
       "<IPython.core.display.HTML object>"
      ]
     },
     "execution_count": 3,
     "metadata": {},
     "output_type": "execute_result"
    }
   ],
   "source": [
    "from IPython.display import HTML\n",
    "HTML('<iframe width=\"560\" height=\"315\" src=\"https://www.youtube-nocookie.com/embed/PFOd01fqcyQ\" title=\"YouTube video player\" frameborder=\"0\" allow=\"accelerometer; autoplay; clipboard-write; encrypted-media; gyroscope; picture-in-picture\" allowfullscreen></iframe>')"
   ]
  },
  {
   "cell_type": "markdown",
   "metadata": {
    "slideshow": {
     "slide_type": "subslide"
    }
   },
   "source": [
    "## Basic Visualization for Seismic Interpretation\n",
    "\n",
    "<font size=6>\n",
    "    \n",
    " * [python-geoprobe](https://github.com/joferkington/python-geoprobe) - It's pure python, and only depends on numpy, so installing should be as simple as ``pip install geoprobe``.\n",
    " \n",
    " * Because these examples are deliberately simplified, we're going to skip worrying about the display coordinate system and just work in \"pixel\" coordinates for everything.  The horizons have already been cropped to exactly match the extent of the volume we're working with.  Normally, there would be additional checks (because the horizon wouldn't exactly match), and we'd be working in inline/crossline or a \"real-world\" coordinate system.\n",
    "</font>"
   ]
  },
  {
   "cell_type": "code",
   "execution_count": 4,
   "metadata": {
    "slideshow": {
     "slide_type": "subslide"
    }
   },
   "outputs": [
    {
     "data": {
      "text/plain": [
       "memmap([[[127, 127, 127, ..., 120,  91, 102],\n",
       "         [127, 127, 127, ..., 147, 122, 128],\n",
       "         [127, 127, 127, ..., 148, 129, 113],\n",
       "         ...,\n",
       "         [127, 127, 127, ..., 157, 199, 201],\n",
       "         [127, 127, 127, ..., 140, 198, 198],\n",
       "         [127, 127, 127, ..., 120, 166, 159]],\n",
       "\n",
       "        [[127, 127, 127, ..., 115,  91, 102],\n",
       "         [127, 127, 127, ..., 139, 127, 125],\n",
       "         [127, 127, 127, ..., 154, 135, 123],\n",
       "         ...,\n",
       "         [127, 127, 127, ..., 185, 187, 164],\n",
       "         [127, 127, 127, ..., 189, 199, 195],\n",
       "         [127, 127, 127, ..., 154, 199, 199]],\n",
       "\n",
       "        [[127, 127, 127, ..., 104,  97, 119],\n",
       "         [127, 127, 127, ..., 130, 123, 131],\n",
       "         [127, 127, 127, ..., 149, 144, 132],\n",
       "         ...,\n",
       "         [127, 127, 127, ..., 201, 187, 145],\n",
       "         [127, 127, 127, ..., 205, 205, 174],\n",
       "         [127, 127, 127, ..., 169, 204, 204]],\n",
       "\n",
       "        ...,\n",
       "\n",
       "        [[127, 127, 127, ..., 121, 133, 164],\n",
       "         [127, 127, 127, ..., 136, 161, 175],\n",
       "         [127, 127, 127, ..., 119, 158, 163],\n",
       "         ...,\n",
       "         [128, 131, 120, ..., 108, 115, 114],\n",
       "         [155, 144,  92, ...,  95,  92,  91],\n",
       "         [137, 120, 109, ..., 113,  85,  85]],\n",
       "\n",
       "        [[127, 127, 127, ..., 135, 134, 136],\n",
       "         [127, 127, 127, ..., 137, 148, 161],\n",
       "         [127, 127, 127, ..., 129, 147, 144],\n",
       "         ...,\n",
       "         [115, 141, 116, ..., 100, 120, 128],\n",
       "         [138, 134, 100, ...,  96,  95,  95],\n",
       "         [108, 122, 129, ..., 125,  98,  85]],\n",
       "\n",
       "        [[127, 127, 127, ..., 141, 128, 107],\n",
       "         [127, 127, 127, ..., 143, 141, 144],\n",
       "         [127, 127, 127, ..., 130, 138, 142],\n",
       "         ...,\n",
       "         [129, 162, 109, ..., 106, 118, 124],\n",
       "         [140, 137, 117, ..., 102, 105, 111],\n",
       "         [126, 106, 137, ..., 121, 106, 100]]], dtype=uint8)"
      ]
     },
     "execution_count": 4,
     "metadata": {},
     "output_type": "execute_result"
    }
   ],
   "source": [
    "import geoprobe\n",
    "\n",
    "vol = geoprobe.volume('data/Volumes/example.vol')\n",
    "vol.data # A memmapped, 3D numpy array of uint8's"
   ]
  },
  {
   "cell_type": "code",
   "execution_count": 5,
   "metadata": {
    "slideshow": {
     "slide_type": "subslide"
    }
   },
   "outputs": [
    {
     "data": {
      "text/plain": [
       "array([[[127, 127, 127, ..., 120,  91, 102],\n",
       "        [127, 127, 127, ..., 147, 122, 128],\n",
       "        [127, 127, 127, ..., 148, 129, 113],\n",
       "        ...,\n",
       "        [127, 127, 127, ..., 157, 199, 201],\n",
       "        [127, 127, 127, ..., 140, 198, 198],\n",
       "        [127, 127, 127, ..., 120, 166, 159]],\n",
       "\n",
       "       [[127, 127, 127, ..., 115,  91, 102],\n",
       "        [127, 127, 127, ..., 139, 127, 125],\n",
       "        [127, 127, 127, ..., 154, 135, 123],\n",
       "        ...,\n",
       "        [127, 127, 127, ..., 185, 187, 164],\n",
       "        [127, 127, 127, ..., 189, 199, 195],\n",
       "        [127, 127, 127, ..., 154, 199, 199]],\n",
       "\n",
       "       [[127, 127, 127, ..., 104,  97, 119],\n",
       "        [127, 127, 127, ..., 130, 123, 131],\n",
       "        [127, 127, 127, ..., 149, 144, 132],\n",
       "        ...,\n",
       "        [127, 127, 127, ..., 201, 187, 145],\n",
       "        [127, 127, 127, ..., 205, 205, 174],\n",
       "        [127, 127, 127, ..., 169, 204, 204]],\n",
       "\n",
       "       ...,\n",
       "\n",
       "       [[127, 127, 127, ..., 121, 133, 164],\n",
       "        [127, 127, 127, ..., 136, 161, 175],\n",
       "        [127, 127, 127, ..., 119, 158, 163],\n",
       "        ...,\n",
       "        [128, 131, 120, ..., 108, 115, 114],\n",
       "        [155, 144,  92, ...,  95,  92,  91],\n",
       "        [137, 120, 109, ..., 113,  85,  85]],\n",
       "\n",
       "       [[127, 127, 127, ..., 135, 134, 136],\n",
       "        [127, 127, 127, ..., 137, 148, 161],\n",
       "        [127, 127, 127, ..., 129, 147, 144],\n",
       "        ...,\n",
       "        [115, 141, 116, ..., 100, 120, 128],\n",
       "        [138, 134, 100, ...,  96,  95,  95],\n",
       "        [108, 122, 129, ..., 125,  98,  85]],\n",
       "\n",
       "       [[127, 127, 127, ..., 141, 128, 107],\n",
       "        [127, 127, 127, ..., 143, 141, 144],\n",
       "        [127, 127, 127, ..., 130, 138, 142],\n",
       "        ...,\n",
       "        [129, 162, 109, ..., 106, 118, 124],\n",
       "        [140, 137, 117, ..., 102, 105, 111],\n",
       "        [126, 106, 137, ..., 121, 106, 100]]], dtype=uint8)"
      ]
     },
     "execution_count": 5,
     "metadata": {},
     "output_type": "execute_result"
    }
   ],
   "source": [
    "# Load the entire volume into memory\n",
    "data = vol.load()\n",
    "data # A 3D numpy array of uint8's"
   ]
  },
  {
   "cell_type": "code",
   "execution_count": 6,
   "metadata": {
    "slideshow": {
     "slide_type": "subslide"
    }
   },
   "outputs": [],
   "source": [
    "from mayavi import mlab\n",
    "\n",
    "import geoprobe\n",
    "\n",
    "vol = geoprobe.volume('data/Volumes/example.vol')\n",
    "data = vol.load()\n",
    "\n",
    "source = mlab.pipeline.scalar_field(data)\n",
    "source.spacing = [1, 1, -1]\n",
    "\n",
    "for axis in ['x', 'z']:\n",
    "    plane = mlab.pipeline.image_plane_widget(source, \n",
    "                                    plane_orientation='{}_axes'.format(axis),\n",
    "                                    slice_index=100, colormap='gray')\n",
    "    # Flip colormap. Better way to do this?\n",
    "    plane.module_manager.scalar_lut_manager.reverse_lut = True\n",
    "\n",
    "mlab.outline()\n",
    "mlab.show()"
   ]
  },
  {
   "cell_type": "code",
   "execution_count": null,
   "metadata": {
    "slideshow": {
     "slide_type": "subslide"
    }
   },
   "outputs": [],
   "source": [
    "from mayavi import mlab\n",
    "import numpy as np\n",
    "import geoprobe\n",
    "import scipy.ndimage\n",
    "\n",
    "hor = geoprobe.horizon('data/Horizons/channels.hzn')\n",
    "vol = geoprobe.volume('data/Volumes/example.vol')\n",
    "data = vol.load()\n",
    "\n",
    "# Because we're not working in inline/crossline, convert to \"pixel\" coords.\n",
    "z = hor.grid\n",
    "z = vol.model2index(z, axis='z')\n",
    "\n",
    "# Clip out some spikes and smooth the surface a bit...\n",
    "z = scipy.ndimage.median_filter(z, 4)\n",
    "z = scipy.ndimage.gaussian_filter(z, 1)\n",
    "\n",
    "# Quirks due to the way hor.grid is defined...\n",
    "mlab.surf(np.arange(z.shape[0]), np.arange(z.shape[1]), -z.T)\n",
    "\n",
    "source = mlab.pipeline.scalar_field(data)\n",
    "source.spacing = [1, 1, -1]\n",
    "\n",
    "for axis in ['x', 'y']:\n",
    "    plane = mlab.pipeline.image_plane_widget(source, \n",
    "                                    plane_orientation='{}_axes'.format(axis),\n",
    "                                    slice_index=100, colormap='gray')\n",
    "    plane.module_manager.scalar_lut_manager.reverse_lut = True\n",
    "\n",
    "mlab.show()"
   ]
  },
  {
   "cell_type": "markdown",
   "metadata": {
    "slideshow": {
     "slide_type": "subslide"
    }
   },
   "source": [
    "## Extracting Attributes on a Surface\n",
    "\n",
    "We'll use matplotlib for this and the rest of what we're doing because we want a simpler 2D display.\n",
    "\n",
    "The key here is that we're just indexing the 3D array!  It's basically nearest-neighbor interpolation, but for our purposes here, that's perfect.\n",
    "\n",
    "As it's currently set up, it will display amplitudes from the seismic volume.  Try changing things to use other attributes by changing which volume is being loaded (i.e. ``\"coherence.vol\"`` or ``\"pseudo_coherence.vol\"`` instead of ``\"example.vol\"``)."
   ]
  },
  {
   "cell_type": "code",
   "execution_count": 7,
   "metadata": {
    "slideshow": {
     "slide_type": "subslide"
    }
   },
   "outputs": [
    {
     "data": {
      "image/png": "[encoded data removed]",
      "text/plain": [
       "<Figure size 432x288 with 2 Axes>"
      ]
     },
     "metadata": {
      "needs_background": "light"
     },
     "output_type": "display_data"
    }
   ],
   "source": [
    "import matplotlib.pyplot as plt\n",
    "from matplotlib.colors import LightSource\n",
    "import geoprobe\n",
    "\n",
    "hor = geoprobe.horizon('data/Horizons/channels_smoothed.hzn')\n",
    "vol = geoprobe.volume('data/Volumes/pseudo_coherence.vol')\n",
    "data = vol.load()\n",
    "\n",
    "# Extract volume attributes at each node in the horizon\n",
    "i, j, k = vol.model2index(hor.x, hor.y, hor.z)\n",
    "attr = data[i.astype(int), j.astype(int), k.astype(int)]\n",
    "\n",
    "# Put unordered, but regularly spaced x, y, z back on a grid\n",
    "attr_grid = geoprobe.horizon(hor.x, hor.y, attr).grid\n",
    "\n",
    "fig, axes = plt.subplots(ncols=2)\n",
    "axes[0].imshow(attr_grid, cmap='gray', vmin=0, vmax=255)\n",
    "\n",
    "# Show the \"hillshaded\" horizon\n",
    "ls = LightSource(azdeg=315, altdeg=45)\n",
    "axes[1].imshow(ls.shade(-hor.grid, plt.cm.jet))\n",
    "\n",
    "for ax in axes:\n",
    "    ax.invert_yaxis()\n",
    "\n",
    "plt.show()\n"
   ]
  },
  {
   "cell_type": "markdown",
   "metadata": {
    "slideshow": {
     "slide_type": "subslide"
    }
   },
   "source": [
    "# 下节课预告\n",
    "<br/>\n",
    "\n",
    "<center class=\"half\">\n",
    "    <img src=\"./fig/sheldon-throw.gif\" style=\"float: center; width:600px\"/> \n",
    "</center>  "
   ]
  }
 ],
 "metadata": {
  "celltoolbar": "Slideshow",
  "kernelspec": {
   "display_name": "Python 3 (ipykernel)",
   "language": "python",
   "name": "python3"
  },
  "language_info": {
   "codemirror_mode": {
    "name": "ipython",
    "version": 3
   },
   "file_extension": ".py",
   "mimetype": "text/x-python",
   "name": "python",
   "nbconvert_exporter": "python",
   "pygments_lexer": "ipython3",
   "version": "3.9.7"
  },
  "livereveal": {
   "autolaunch": true,
   "scroll": true,
   "start_slideshow_at": "selected"
  }
 },
 "nbformat": 4,
 "nbformat_minor": 2
}
