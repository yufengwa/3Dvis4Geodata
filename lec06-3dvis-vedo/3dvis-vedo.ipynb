{
 "cells": [
  {
   "cell_type": "markdown",
   "metadata": {
    "slideshow": {
     "slide_type": "skip"
    }
   },
   "source": [
    "地学数据三维可视化课件第六节：vedo"
   ]
  },
  {
   "cell_type": "markdown",
   "metadata": {
    "slideshow": {
     "slide_type": "slide"
    }
   },
   "source": [
    "# <center>地学数据三维可视化-vedo</center>\n",
    "<br/>\n",
    "\n",
    "[<center><img src=\"./fig/geo.gif\" style=\"float: center; height:280px\" /><center>](https://vedo.embl.es/examples/geo_scene.html)\n",
    "<br/>\n",
    "\n",
    "<div style=\"clear: both\"></div>\n",
    "<center>汪宇锋</center>\n",
    "<div style=\"clear: both\"></div>\n",
    "<center>地球物理与空间信息学院</center>\n",
    "<div style=\"clear: both\"></div>\n",
    "<center>2021年11月</center>"
   ]
  },
  {
   "cell_type": "markdown",
   "metadata": {
    "slideshow": {
     "slide_type": "slide"
    }
   },
   "source": [
    "## vedo\n",
    "<br/>\n",
    "\n",
    "<table>\n",
    "  <tr>\n",
    "    <td><img src=\"./fig/gyroid.gif\" width=\"500\" /></td>\n",
    "    <td><img src=\"./fig/code_gyroid.png\" width=\"810\" /></td>\n",
    "  </tr>\n",
    " </table>\n"
   ]
  },
  {
   "cell_type": "markdown",
   "metadata": {
    "slideshow": {
     "slide_type": "subslide"
    }
   },
   "source": [
    "## Quick Start\n",
    "<br/>\n",
    "\n",
    "Inspired by the [`vpython`](https://vpython.org/) manifesto “3D programming for ordinary mortals”, vedo makes it easy to work wth three-dimensional objects, create displays and animations in just a few lines of code, even for less experienced programmers. vedo is based on **VTK** and **numpy**, with no other dependencies.\n",
    "\n",
    "```python\n",
    "pip install vedo\n",
    "vedo https://vedo.embl.es/examples/geo_scene.npz\n",
    "```\n",
    "\n",
    "Check out the Git repository: https://github.com/marcomusy/vedo"
   ]
  },
  {
   "cell_type": "markdown",
   "metadata": {
    "slideshow": {
     "slide_type": "slide"
    }
   },
   "source": [
    "## Utah Forge\n",
    "\n",
    "This is a notebook showing how to recreate a model of a geothermal reservoir using publicly available data. The model is of a reservoir in Utah that is part of a project called FORGE (Frontier Observatory for Research in Geothermal Energy).\n",
    "\n",
    "See image that you will generate here: https://github.com/ahinoamp/Example3DGeologicModelUsingVTKPlotter/blob/master/ModelImage.png\n",
    "\n",
    "Original data source links are shown in the end."
   ]
  },
  {
   "cell_type": "code",
   "execution_count": 1,
   "metadata": {
    "slideshow": {
     "slide_type": "subslide"
    }
   },
   "outputs": [],
   "source": [
    "#imports\n",
    "from vedo import *\n",
    "import pandas as pd\n",
    "settings.useDepthPeeling = True    \n",
    "embedWindow('k3d') # k3d, panel or itkwidgets or False (for a popup)"
   ]
  },
  {
   "cell_type": "code",
   "execution_count": 2,
   "metadata": {
    "slideshow": {
     "slide_type": "subslide"
    }
   },
   "outputs": [
    {
     "name": "stdout",
     "output_type": "stream",
     "text": [
      "\u001b[7m\u001b[1m...locating data source...\u001b[0m\n"
     ]
    }
   ],
   "source": [
    "#########################\n",
    "# Load surfaces, import the file from github\n",
    "#########################\n",
    "printc(\"...locating data source...\", invert=1)\n",
    "\n",
    "# url = \"https://raw.githubusercontent.com/ahinoamp/Example3DGeologicModelUsingVTKPlotter/master/\"\n",
    "url = './data/3DGeologicModel/'"
   ]
  },
  {
   "cell_type": "code",
   "execution_count": 3,
   "metadata": {
    "slideshow": {
     "slide_type": "subslide"
    }
   },
   "outputs": [
    {
     "name": "stdout",
     "output_type": "stream",
     "text": [
      "\u001b[7m\u001b[1m...loading surfaces data...\u001b[0m\n"
     ]
    }
   ],
   "source": [
    "#Load surfaces, fault, and microseismic data\n",
    "printc(\"...loading surfaces data...\", invert=1)\n",
    "\n",
    "landSurfacePD = pd.read_csv(url+\"land_surface_vertices.csv\")\n",
    "vertices_175CPD = pd.read_csv(url+\"175C_vertices.csv\")\n",
    "vertices_225CPD = pd.read_csv(url+\"225C_vertices.csv\")\n",
    "Negro_Mag_Fault_verticesPD = pd.read_csv(url+\"Negro_Mag_Fault_vertices.csv\")\n",
    "Opal_Mound_Fault_verticesPD = pd.read_csv(url+\"Opal_Mound_Fault_vertices.csv\")\n",
    "top_granitoid_verticesPD = pd.read_csv(url+\"top_granitoid_vertices.csv\")\n",
    "microseismic = pd.read_csv(url+\"Microseismic.csv\")"
   ]
  },
  {
   "cell_type": "code",
   "execution_count": 4,
   "metadata": {
    "slideshow": {
     "slide_type": "subslide"
    }
   },
   "outputs": [
    {
     "name": "stdout",
     "output_type": "stream",
     "text": [
      "\u001b[7m\u001b[1m...loading well data...\u001b[0m\n"
     ]
    }
   ],
   "source": [
    "# The well path and different logs for the well paths\n",
    "printc(\"...loading well data...\", invert=1)\n",
    "\n",
    "well_5832_path = pd.read_csv(url+\"path5832.csv\")\n",
    "temp_well = pd.read_csv(url+\"temperature5832.csv\")\n",
    "nphi_well = pd.read_csv(url+\"nphi5832.csv\")\n",
    "pressure_well = pd.read_csv(url+\"pressure5832.csv\")\n",
    "# Since most of the wells in the area were just vertical, I split them into two files:\n",
    "# One file with the top of the wells and the other with the bottom point of the wellbore\n",
    "wellsmin = pd.read_csv(url+\"MinPointsWells.csv\")\n",
    "wellsmax = pd.read_csv(url+\"MaxPointsWells.csv\")"
   ]
  },
  {
   "cell_type": "code",
   "execution_count": 5,
   "metadata": {
    "slideshow": {
     "slide_type": "subslide"
    }
   },
   "outputs": [
    {
     "name": "stdout",
     "output_type": "stream",
     "text": [
      "\u001b[7m\u001b[1m...loading site boundry data...\u001b[0m\n"
     ]
    }
   ],
   "source": [
    "# Project boundary area on the surface\n",
    "printc(\"...loading site boundry data...\", invert=1)\n",
    "\n",
    "border = pd.read_csv(url+\"FORGE_Border.csv\")"
   ]
  },
  {
   "cell_type": "code",
   "execution_count": 6,
   "metadata": {
    "slideshow": {
     "slide_type": "subslide"
    }
   },
   "outputs": [
    {
     "name": "stdout",
     "output_type": "stream",
     "text": [
      "\u001b[7m\u001b[1m...plotting surfaces data...\u001b[0m"
     ]
    }
   ],
   "source": [
    "#############################################\n",
    "## 1. land surface: a mesh with varying color\n",
    "#############################################\n",
    "printc(\"...plotting surfaces data...\", invert=1, end='')\n",
    "\n",
    "# create a mesh object from the 2D Delaunay triangulation of the point cloud\n",
    "landSurface = delaunay2D(landSurfacePD.values)\n",
    "\n",
    "# in order to color it by the elevation, we use the z values of the mesh\n",
    "zvals = landSurface.points()[:, 2]\n",
    "landSurface.cmap(\"terrain\", zvals, vmin=1100)\n",
    "landSurface.name = \"Land Surface\" # give the object a name\n",
    "\n",
    "# Create a plotter and add landSurface to it\n",
    "plt = Plotter(axes=dict(xtitle='km', ytitle=' ', ztitle='km*1.5', yzGrid=False),\n",
    "              bg2='lb', size=(1200,900)) # screen size\n",
    "plt += landSurface.flag()                # this adds a flag when hoovering the mouse\n",
    "plt += landSurface.isolines(5).lw(1).c('r')"
   ]
  },
  {
   "cell_type": "code",
   "execution_count": 7,
   "metadata": {
    "scrolled": true,
    "slideshow": {
     "slide_type": "subslide"
    }
   },
   "outputs": [
    {
     "data": {
      "application/vnd.jupyter.widget-view+json": {
       "model_id": "2750fc561674453687f1c8d408828562",
       "version_major": 2,
       "version_minor": 0
      },
      "text/plain": [
       "Plot(antialias=True, axes=['x', 'y', 'z'], axes_helper=1.0, background_color=16777215, camera=[2, -3, 0.2, 0.0…"
      ]
     },
     "metadata": {},
     "output_type": "display_data"
    }
   ],
   "source": [
    "plt.show(viewup=\"z\")"
   ]
  },
  {
   "cell_type": "code",
   "execution_count": 8,
   "metadata": {
    "slideshow": {
     "slide_type": "subslide"
    }
   },
   "outputs": [
    {
     "name": "stdout",
     "output_type": "stream",
     "text": [
      "\u001b[7m\u001b[1m...plotting isotherm surfaces...\u001b[0m"
     ]
    }
   ],
   "source": [
    "## Different meshes with constant colors\n",
    "printc(\"...plotting isotherm surfaces...\", invert=1, end='')\n",
    "\n",
    "# Mesh of 175 C isotherm\n",
    "vertices_175C = delaunay2D(vertices_175CPD.values)\n",
    "vertices_175C.name = \"175C temperature isosurface\"\n",
    "plt += vertices_175C.c(\"orange\").opacity(0.3).flag()\n",
    "\n",
    "# Mesh of 225 C isotherm\n",
    "vertices_225CT = delaunay2D(vertices_225CPD.values)\n",
    "vertices_225CT.name = \"225C temperature isosurface\"\n",
    "plt += vertices_225CT.c(\"r\").opacity(0.4).flag()"
   ]
  },
  {
   "cell_type": "code",
   "execution_count": 9,
   "metadata": {
    "slideshow": {
     "slide_type": "subslide"
    }
   },
   "outputs": [
    {
     "data": {
      "application/vnd.jupyter.widget-view+json": {
       "model_id": "1df27f4c13534ea59df3b25ca3c49428",
       "version_major": 2,
       "version_minor": 0
      },
      "text/plain": [
       "Plot(antialias=True, axes=['x', 'y', 'z'], axes_helper=1.0, background_color=16777215, camera=[2, -3, 0.2, 0.0…"
      ]
     },
     "metadata": {},
     "output_type": "display_data"
    }
   ],
   "source": [
    "plt.show(viewup=\"z\")"
   ]
  },
  {
   "cell_type": "code",
   "execution_count": 10,
   "metadata": {
    "slideshow": {
     "slide_type": "subslide"
    }
   },
   "outputs": [
    {
     "name": "stdout",
     "output_type": "stream",
     "text": [
      "\u001b[7m\u001b[1m...plotting fault surfaces...\u001b[0m"
     ]
    }
   ],
   "source": [
    "printc(\"...plotting fault surfaces...\", invert=1, end='')\n",
    "\n",
    "# Negro fault, mode=fit is used because point cloud is not in xy plane\n",
    "Negro_Mag_Fault_vertices = delaunay2D(Negro_Mag_Fault_verticesPD.values, mode='fit')\n",
    "Negro_Mag_Fault_vertices.name = \"Negro Fault\"\n",
    "plt += Negro_Mag_Fault_vertices.c(\"f\").opacity(0.6).flag()\n",
    "\n",
    "# Opal fault\n",
    "Opal_Mound_Fault_vertices = delaunay2D(Opal_Mound_Fault_verticesPD.values, mode='fit')\n",
    "Opal_Mound_Fault_vertices.name = \"Opal Mound Fault\"\n",
    "plt += Opal_Mound_Fault_vertices.c(\"g\").opacity(0.6).flag()"
   ]
  },
  {
   "cell_type": "code",
   "execution_count": 11,
   "metadata": {
    "slideshow": {
     "slide_type": "subslide"
    }
   },
   "outputs": [
    {
     "data": {
      "application/vnd.jupyter.widget-view+json": {
       "model_id": "e8fb7fb24b204c32a2ae0298e3904a00",
       "version_major": 2,
       "version_minor": 0
      },
      "text/plain": [
       "Plot(antialias=True, axes=['x', 'y', 'z'], axes_helper=1.0, background_color=16777215, camera=[2, -3, 0.2, 0.0…"
      ]
     },
     "metadata": {},
     "output_type": "display_data"
    }
   ],
   "source": [
    "plt.show(viewup=\"z\")"
   ]
  },
  {
   "cell_type": "code",
   "execution_count": 12,
   "metadata": {
    "slideshow": {
     "slide_type": "subslide"
    }
   },
   "outputs": [
    {
     "name": "stdout",
     "output_type": "stream",
     "text": [
      "\u001b[7m\u001b[1m...plotting Top Granite surface...\u001b[0m"
     ]
    }
   ],
   "source": [
    "# Top Granite, (shift it a bit to avoid overlapping)\n",
    "printc(\"...plotting Top Granite surface...\", invert=1, end='')\n",
    "xyz = top_granitoid_verticesPD.values - [0,0,20]\n",
    "top_granitoid_vertices = delaunay2D(xyz).texture('paper2')\n",
    "top_granitoid_vertices.name = \"Top of granite surface\"\n",
    "plt += top_granitoid_vertices.flag()"
   ]
  },
  {
   "cell_type": "code",
   "execution_count": 13,
   "metadata": {
    "slideshow": {
     "slide_type": "subslide"
    }
   },
   "outputs": [
    {
     "data": {
      "application/vnd.jupyter.widget-view+json": {
       "model_id": "5c69e2b5f449418abcb22c0d075dcd85",
       "version_major": 2,
       "version_minor": 0
      },
      "text/plain": [
       "Plot(antialias=True, axes=['x', 'y', 'z'], axes_helper=1.0, background_color=16777215, camera=[2, -3, 0.2, 0.0…"
      ]
     },
     "metadata": {},
     "output_type": "display_data"
    }
   ],
   "source": [
    "plt.show(viewup=\"z\")"
   ]
  },
  {
   "cell_type": "code",
   "execution_count": 14,
   "metadata": {
    "slideshow": {
     "slide_type": "subslide"
    }
   },
   "outputs": [
    {
     "name": "stdout",
     "output_type": "stream",
     "text": [
      "\u001b[7m\u001b[1m...plotting Microseismic data...\u001b[0m\n"
     ]
    }
   ],
   "source": [
    "printc(\"...plotting Microseismic data...\", invert=1)\n",
    "\n",
    "# Microseismic\n",
    "microseismicxyz = microseismic[[\"xloc\", \"yloc\", \"zloc\"]].values\n",
    "scals = microseismic[[\"mw\"]]\n",
    "microseismicPts = Points(microseismicxyz, r=5).cmap(\"jet\", scals)\n",
    "microseismicPts.name = \"Microseismic events\"\n",
    "plt += microseismicPts.flag()"
   ]
  },
  {
   "cell_type": "code",
   "execution_count": 15,
   "metadata": {
    "slideshow": {
     "slide_type": "subslide"
    }
   },
   "outputs": [
    {
     "data": {
      "application/vnd.jupyter.widget-view+json": {
       "model_id": "ea92156e6f8646fcb2d874ddafe86828",
       "version_major": 2,
       "version_minor": 0
      },
      "text/plain": [
       "Plot(antialias=True, axes=['x', 'y', 'z'], axes_helper=1.0, background_color=16777215, camera=[2, -3, 0.2, 0.0…"
      ]
     },
     "metadata": {},
     "output_type": "display_data"
    }
   ],
   "source": [
    "plt.show(viewup=\"z\")"
   ]
  },
  {
   "cell_type": "code",
   "execution_count": 16,
   "metadata": {
    "slideshow": {
     "slide_type": "subslide"
    }
   },
   "outputs": [
    {
     "name": "stdout",
     "output_type": "stream",
     "text": [
      "\u001b[7m\u001b[1m...plotting site boundary...\u001b[0m\n"
     ]
    }
   ],
   "source": [
    "# FORGE Boundary. Since the boundary area did not have a Z column,\n",
    "# I assigned a Z value for where I wanted it to appear\n",
    "printc(\"...plotting site boundary...\", invert=1)\n",
    "\n",
    "border[\"zcoord\"] = 1650\n",
    "borderxyz = border[[\"xcoord\", \"ycoord\", \"zcoord\"]]\n",
    "boundary = Line(borderxyz.values).extrude(zshift=120, cap=False).lw(0).texture('wood1')\n",
    "boundary.name = \"FORGE area boundary\"\n",
    "plt += boundary.flag()"
   ]
  },
  {
   "cell_type": "code",
   "execution_count": 17,
   "metadata": {
    "slideshow": {
     "slide_type": "subslide"
    }
   },
   "outputs": [
    {
     "data": {
      "application/vnd.jupyter.widget-view+json": {
       "model_id": "0c81bc0f7cf94ec4bd787749dc678fb0",
       "version_major": 2,
       "version_minor": 0
      },
      "text/plain": [
       "Plot(antialias=True, axes=['x', 'y', 'z'], axes_helper=1.0, background_color=16777215, camera=[2, -3, 0.2, 0.0…"
      ]
     },
     "metadata": {},
     "output_type": "display_data"
    }
   ],
   "source": [
    "plt.show(viewup=\"z\")"
   ]
  },
  {
   "cell_type": "code",
   "execution_count": 18,
   "metadata": {
    "slideshow": {
     "slide_type": "subslide"
    }
   },
   "outputs": [],
   "source": [
    "# The path of well 58_32\n",
    "Well1 = Line(well_5832_path[[\"X\", \"Y\", \"Z\"]].values, lw=2, c='k')\n",
    "Well1.name = \"Well 58-32\"\n",
    "plt += Well1.flag()"
   ]
  },
  {
   "cell_type": "code",
   "execution_count": 19,
   "metadata": {
    "slideshow": {
     "slide_type": "subslide"
    }
   },
   "outputs": [
    {
     "data": {
      "application/vnd.jupyter.widget-view+json": {
       "model_id": "46a67cff25224a61a966dc5fe69385a4",
       "version_major": 2,
       "version_minor": 0
      },
      "text/plain": [
       "Plot(antialias=True, axes=['x', 'y', 'z'], axes_helper=1.0, background_color=16777215, camera=[2, -3, 0.2, 0.0…"
      ]
     },
     "metadata": {},
     "output_type": "display_data"
    }
   ],
   "source": [
    "plt.show(viewup=\"z\")"
   ]
  },
  {
   "cell_type": "code",
   "execution_count": 20,
   "metadata": {
    "slideshow": {
     "slide_type": "subslide"
    }
   },
   "outputs": [],
   "source": [
    "# A porosity log in the well\n",
    "xyz = nphi_well[[\"X\", \"Y\", \"Z\"]].values\n",
    "porosity = nphi_well[\"Nphi\"].values\n",
    "Well2 = Line(xyz, lw=3).cmap(\"hot\", porosity)\n",
    "Well2.name = \"Porosity log well 58-32\"\n",
    "plt += Well2.flag()"
   ]
  },
  {
   "cell_type": "code",
   "execution_count": 21,
   "metadata": {
    "slideshow": {
     "slide_type": "subslide"
    }
   },
   "outputs": [
    {
     "data": {
      "application/vnd.jupyter.widget-view+json": {
       "model_id": "084f5236edd943689a2645be29d72acf",
       "version_major": 2,
       "version_minor": 0
      },
      "text/plain": [
       "Plot(antialias=True, axes=['x', 'y', 'z'], axes_helper=1.0, background_color=16777215, camera=[2, -3, 0.2, 0.0…"
      ]
     },
     "metadata": {},
     "output_type": "display_data"
    }
   ],
   "source": [
    "plt.show(viewup=\"z\")"
   ]
  },
  {
   "cell_type": "code",
   "execution_count": 22,
   "metadata": {
    "slideshow": {
     "slide_type": "subslide"
    }
   },
   "outputs": [],
   "source": [
    "# This well data is actually represented by points since as of right now,\n",
    "xyz = pressure_well[[\"X\", \"Y\", \"Z\"]].values\n",
    "pressure = pressure_well[\"Pressure\"].values\n",
    "Well3 = Line(xyz, lw=3).cmap(\"cool\", pressure)\n",
    "Well3.name = \"Pressure log well 58-32\"\n",
    "plt += Well3.flag()"
   ]
  },
  {
   "cell_type": "code",
   "execution_count": 23,
   "metadata": {
    "slideshow": {
     "slide_type": "subslide"
    }
   },
   "outputs": [
    {
     "data": {
      "application/vnd.jupyter.widget-view+json": {
       "model_id": "38a9dae092dd4405877c9ac74126d542",
       "version_major": 2,
       "version_minor": 0
      },
      "text/plain": [
       "Plot(antialias=True, axes=['x', 'y', 'z'], axes_helper=1.0, background_color=16777215, camera=[2, -3, 0.2, 0.0…"
      ]
     },
     "metadata": {},
     "output_type": "display_data"
    }
   ],
   "source": [
    "plt.show(viewup=\"z\")"
   ]
  },
  {
   "cell_type": "code",
   "execution_count": 24,
   "metadata": {
    "slideshow": {
     "slide_type": "subslide"
    }
   },
   "outputs": [],
   "source": [
    "# Temperature log\n",
    "xyz = temp_well[[\"X\", \"Y\", \"Z\"]].values\n",
    "temp = temp_well[\"Temperature\"].values\n",
    "Well4 = Line(xyz, lw=3).cmap(\"seismic\", temp)\n",
    "Well4.name = \"Temperature log well 58-32\"\n",
    "plt += Well4.flag()"
   ]
  },
  {
   "cell_type": "code",
   "execution_count": 25,
   "metadata": {
    "slideshow": {
     "slide_type": "subslide"
    }
   },
   "outputs": [
    {
     "data": {
      "application/vnd.jupyter.widget-view+json": {
       "model_id": "cd2f35ec38df4cf29183d9355246aa24",
       "version_major": 2,
       "version_minor": 0
      },
      "text/plain": [
       "Plot(antialias=True, axes=['x', 'y', 'z'], axes_helper=1.0, background_color=16777215, camera=[2, -3, 0.2, 0.0…"
      ]
     },
     "metadata": {},
     "output_type": "display_data"
    }
   ],
   "source": [
    "plt.show(viewup=\"z\")"
   ]
  },
  {
   "cell_type": "code",
   "execution_count": 26,
   "metadata": {
    "slideshow": {
     "slide_type": "subslide"
    }
   },
   "outputs": [],
   "source": [
    "# defining the start and end of the lines that will be representing the wellbores\n",
    "Wells = Lines(wellsmin[[\"x\", \"y\", \"z\"]].values, # start points\n",
    "              wellsmax[[\"x\", \"y\", \"z\"]].values, # end points\n",
    "              c=\"gray\", alpha=1, lw=3)\n",
    "Wells.name = \"Pre-existing wellbores\"\n",
    "plt += Wells.flag()"
   ]
  },
  {
   "cell_type": "code",
   "execution_count": 27,
   "metadata": {
    "slideshow": {
     "slide_type": "subslide"
    }
   },
   "outputs": [
    {
     "data": {
      "application/vnd.jupyter.widget-view+json": {
       "model_id": "fa833aa1193d4e539b17da6bbaaac387",
       "version_major": 2,
       "version_minor": 0
      },
      "text/plain": [
       "Plot(antialias=True, axes=['x', 'y', 'z'], axes_helper=1.0, background_color=16777215, camera=[2, -3, 0.2, 0.0…"
      ]
     },
     "metadata": {},
     "output_type": "display_data"
    }
   ],
   "source": [
    "plt.show(viewup=\"z\")"
   ]
  },
  {
   "cell_type": "code",
   "execution_count": 28,
   "metadata": {
    "slideshow": {
     "slide_type": "subslide"
    }
   },
   "outputs": [
    {
     "name": "stdout",
     "output_type": "stream",
     "text": [
      "\u001b[7m\u001b[1m...plotting the final results...\u001b[0m\n"
     ]
    },
    {
     "data": {
      "application/vnd.jupyter.widget-view+json": {
       "model_id": "1ba3ef3738524caa90eb6c9574c6a924",
       "version_major": 2,
       "version_minor": 0
      },
      "text/plain": [
       "Plot(antialias=True, axes=['x', 'y', 'z'], axes_helper=1.0, background_color=16777215, camera=[2, -3, 0.2, 0.0…"
      ]
     },
     "metadata": {},
     "output_type": "display_data"
    }
   ],
   "source": [
    "printc(\"...plotting the final results...\", invert=1)\n",
    "\n",
    "#for a in plt.actors:\n",
    "#    # change scale to kilometers in x and y, but expand z scale by 1.5!\n",
    "#    a.scale([0.001, 0.001, 0.001*1.5])\n",
    "\n",
    "#########################\n",
    "## show the plot\n",
    "plt += __doc__\n",
    "plt.show(viewup=\"z\", zoom=1.2)"
   ]
  },
  {
   "cell_type": "code",
   "execution_count": 29,
   "metadata": {
    "slideshow": {
     "slide_type": "subslide"
    }
   },
   "outputs": [
    {
     "name": "stdout",
     "output_type": "stream",
     "text": [
      "\u001b[7m\u001b[1m...plotting the final results...\u001b[0m\n"
     ]
    },
    {
     "data": {
      "text/plain": [
       "<vedo.plotter.Plotter at 0x12dbc4df0>"
      ]
     },
     "execution_count": 29,
     "metadata": {},
     "output_type": "execute_result"
    }
   ],
   "source": [
    "printc(\"...plotting the final results...\", invert=1)\n",
    "\n",
    "plt.export(\"page.html\") # k3d is the default"
   ]
  },
  {
   "cell_type": "code",
   "execution_count": 30,
   "metadata": {
    "slideshow": {
     "slide_type": "subslide"
    }
   },
   "outputs": [
    {
     "name": "stdout",
     "output_type": "stream",
     "text": [
      "\u001b[7m\u001b[1m...removing sth from the final results...\u001b[0m\n"
     ]
    },
    {
     "data": {
      "application/vnd.jupyter.widget-view+json": {
       "model_id": "e5975ad00e614e3ea1699f07b9bffd27",
       "version_major": 2,
       "version_minor": 0
      },
      "text/plain": [
       "Plot(antialias=True, axes=['x', 'y', 'z'], axes_helper=1.0, background_color=16777215, camera=[2, -3, 0.2, 0.0…"
      ]
     },
     "metadata": {},
     "output_type": "display_data"
    }
   ],
   "source": [
    "printc(\"...removing sth from the final results...\", invert=1)\n",
    "#plt -= Wells.flag()\n",
    "\n",
    "plt.show(viewup=\"z\", zoom=1.2)"
   ]
  },
  {
   "cell_type": "markdown",
   "metadata": {
    "slideshow": {
     "slide_type": "slide"
    }
   },
   "source": [
    "## vedo with [dolfin](https://fenicsproject.org/)\n",
    "\n",
    "- FEniCS is a popular open-source (LGPLv3) computing platform for solving partial differential equations (PDEs). FEniCS enables users to quickly translate scientific models into efficient finite element code. \n",
    "\n",
    "- With the high-level Python and C++ interfaces to FEniCS, it is easy to get started, but FEniCS offers also powerful capabilities for more experienced programmers. \n",
    "\n",
    "- FEniCS runs on a multitude of platforms ranging from laptops to high-performance clusters."
   ]
  },
  {
   "cell_type": "code",
   "execution_count": 31,
   "metadata": {
    "slideshow": {
     "slide_type": "subslide"
    }
   },
   "outputs": [
    {
     "name": "stdout",
     "output_type": "stream",
     "text": [
      "Traceback (most recent call last):\r\n",
      "  File \"./data/awefem.py\", line 9, in <module>\r\n",
      "    from dolfin import *\r\n",
      "  File \"/Users/wangyufeng/opt/anaconda3/lib/python3.8/site-packages/dolfin/__init__.py\", line 142, in <module>\r\n",
      "    from .fem.assembling import (assemble, assemble_system, assemble_multimesh,\r\n",
      "  File \"/Users/wangyufeng/opt/anaconda3/lib/python3.8/site-packages/dolfin/fem/assembling.py\", line 34, in <module>\r\n",
      "    from dolfin.fem.form import Form\r\n",
      "  File \"/Users/wangyufeng/opt/anaconda3/lib/python3.8/site-packages/dolfin/fem/form.py\", line 12, in <module>\r\n",
      "    from dolfin.jit.jit import dolfin_pc, ffc_jit\r\n",
      "  File \"/Users/wangyufeng/opt/anaconda3/lib/python3.8/site-packages/dolfin/jit/jit.py\", line 18, in <module>\r\n",
      "    raise RuntimeError(\"Could not find DOLFIN pkg-config file. Please make sure appropriate paths are set.\")\r\n",
      "RuntimeError: Could not find DOLFIN pkg-config file. Please make sure appropriate paths are set.\r\n"
     ]
    }
   ],
   "source": [
    "!source /Users/wangyufeng/opt/anaconda3/share/dolfin/dolfin.conf\n",
    "!python ./data/awefem.py"
   ]
  },
  {
   "cell_type": "markdown",
   "metadata": {
    "slideshow": {
     "slide_type": "slide"
    }
   },
   "source": [
    "# 下节课预告\n",
    "<br/>\n",
    "\n",
    "<center class=\"half\">\n",
    "    <img src=\"./fig/ParaView-MoshaFault.gif\" style=\"float: center; width:600px\"/> \n",
    "</center>  "
   ]
  }
 ],
 "metadata": {
  "celltoolbar": "Slideshow",
  "kernelspec": {
   "display_name": "Python 3 (ipykernel)",
   "language": "python",
   "name": "python3"
  },
  "language_info": {
   "codemirror_mode": {
    "name": "ipython",
    "version": 3
   },
   "file_extension": ".py",
   "mimetype": "text/x-python",
   "name": "python",
   "nbconvert_exporter": "python",
   "pygments_lexer": "ipython3",
   "version": "3.8.8"
  },
  "livereveal": {
   "autolaunch": true,
   "scroll": true,
   "start_slideshow_at": "selected"
  }
 },
 "nbformat": 4,
 "nbformat_minor": 2
}
