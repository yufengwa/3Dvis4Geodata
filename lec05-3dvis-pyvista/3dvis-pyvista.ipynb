{
 "cells": [
  {
   "cell_type": "markdown",
   "metadata": {
    "slideshow": {
     "slide_type": "skip"
    }
   },
   "source": [
    "地学数据三维可视化课件第三节：PyVista"
   ]
  },
  {
   "cell_type": "markdown",
   "metadata": {
    "slideshow": {
     "slide_type": "slide"
    }
   },
   "source": [
    "# <center>地学数据三维可视化-PyVista</center>\n",
    "<br/>\n",
    "\n",
    "<center><img src=\"./fig/demo.gif\" style=\"float: center; height:300px\" /><center>\n",
    "<br/>\n",
    "\n",
    "<div style=\"clear: both\"></div>\n",
    "<center>汪宇锋</center>\n",
    "<div style=\"clear: both\"></div>\n",
    "<center>地球物理与空间信息学院</center>\n",
    "<div style=\"clear: both\"></div>\n",
    "<center>2021年11月</center>"
   ]
  },
  {
   "cell_type": "markdown",
   "metadata": {
    "slideshow": {
     "slide_type": "slide"
    }
   },
   "source": [
    "## 3D Geoscience\n",
    "\n",
    "- Building three-dimensional (3D) subsurface models from field data and imaging techniques is a ubiquitous task in geological, hydrological, and resource estimation studies.\n",
    "\n",
    "- Geoscientists need an underlying framework that can handle a variety of 3D data structures and visualize complex geospatial data types in addition to the limited data types that current free software handle.\n",
    "\n",
    "- Such a framework would need to act as a glue across existing geo-software, streamlining data management, visualization, and development of reproducible research workflows."
   ]
  },
  {
   "cell_type": "markdown",
   "metadata": {
    "slideshow": {
     "slide_type": "subslide"
    }
   },
   "source": [
    "## 3D Geoscience\n",
    "\n",
    "- Available free and open-source software to integrate subsurface information as well as to visualize those data in a 3D rendering space is limited.\n",
    "\n",
    "- The limitations have arisen from disconnects between commercial software used across industry and a lack of open-source tooling within the research community.\n",
    "\n",
    "- Lack of software availability often leaves researchers without a toolset for integration across their different data types, such as pairing well locations, resource models, and geophysical images.\n",
    "\n"
   ]
  },
  {
   "cell_type": "markdown",
   "metadata": {
    "slideshow": {
     "slide_type": "subslide"
    }
   },
   "source": [
    "## 3D Geoscience\n",
    "<br/>\n",
    "\n",
    "<center><img src=\"./fig/integrated-scene.png\" width=\"650\" /></center>\n",
    "\n",
    "<font size=4> An example of a typical subsurface study where data and models are co-located, including contextual information (DEM and satellite imagery), borehole measurements, a 3D structural geology model, and a 3D physical property model.\n",
    "    </font>\n"
   ]
  },
  {
   "cell_type": "markdown",
   "metadata": {
    "slideshow": {
     "slide_type": "slide"
    }
   },
   "source": [
    "## [PyVista](https://www.pyvista.org/)\n",
    "<br/>\n",
    "\n",
    "<table>\n",
    "  <tr>\n",
    "    <td><img src=\"./fig/bane.jpg\" width=\"1000\" /></td>\n",
    "    <td>“PyVista is a common underlying framework that levels the playing field for all these libraries. It’s now easy for a researcher to do geophysical inversions in SimPEG, and then do geological modelling in GemPy, for example. Then they can integrate their results with a 3D visualization tool, PyVista – it’s been a powerful way for people to communicate their findings, and work across sub-disciplines in geoscience. ” <br/>\n",
    "        -- Bane Sullivan </td>\n",
    "  </tr>\n",
    " </table>\n"
   ]
  },
  {
   "cell_type": "markdown",
   "metadata": {
    "slideshow": {
     "slide_type": "subslide"
    }
   },
   "source": [
    "## [PyVista](https://www.pyvista.org/)\n",
    "<br/>\n",
    "\n",
    "<table>\n",
    "  <tr>\n",
    "    <td><img src=\"./fig/salt-dome.gif\" width=\"1000\" /></td>\n",
    "    <td>“Our goal is to make 3D visualization and analysis approachable to domain-scientists so they can focus on the research questions at hand. ” </td>\n",
    "  </tr>\n",
    " </table>\n"
   ]
  },
  {
   "cell_type": "markdown",
   "metadata": {
    "slideshow": {
     "slide_type": "subslide"
    }
   },
   "source": [
    "## [PyVista](https://www.pyvista.org/)\n",
    "<br/>\n",
    "\n",
    "<center><img src=\"./fig/pyvista-banner.png\" width=\"950\" /></center>\n",
    "\n",
    "<font size=4> Credit by Sullivan and Kaszynski, (2019). PyVista: 3D plotting and mesh analysis through a streamlined interface for the Visualization Toolkit (VTK). Journal of Open Source Software, 4(37), 1450, https://doi.org/10.21105/joss.01450\n",
    "    </font>\n"
   ]
  },
  {
   "cell_type": "markdown",
   "metadata": {
    "slideshow": {
     "slide_type": "subslide"
    }
   },
   "source": [
    "## [PyVista](https://www.pyvista.org/)\n",
    "\n",
    "<center><img src=\"./fig/omfvista-demo.gif\" width=\"700\" /></center>\n"
   ]
  },
  {
   "cell_type": "markdown",
   "metadata": {
    "slideshow": {
     "slide_type": "slide"
    }
   },
   "source": [
    "## [PyVista](https://www.pyvista.org/)\n",
    "<br/>\n",
    "\n",
    "<center><img src=\"./fig/pyvistaflow.jpg\" width=\"750\" /></center>\n",
    "\n",
    "<font size=4> A typical geoscientific computing workflow (left to right) where PyVista can manage and visualize the data for exploration and insight at each stage of the workflow.\n",
    "    </font>"
   ]
  },
  {
   "cell_type": "markdown",
   "metadata": {
    "slideshow": {
     "slide_type": "slide"
    }
   },
   "source": [
    "## [PyVista on Transform-2021](https://github.com/banesullivan/transform-2021) \n",
    "<br/>\n",
    "\n",
    "This workshop assumes you have anaconda on your machine. There is a provided\n",
    "`environment.yml` file to create a conda virtual environment for installing PyVista and many other packages for the tutorials in this workshop.\n",
    "\n",
    "1. Download entire repository\n",
    "2. Run `conda env create --file=environment.yml`\n",
    "3. Activate the environment: `conda activate t21-pyvista`\n",
    "\n"
   ]
  },
  {
   "cell_type": "code",
   "execution_count": 50,
   "metadata": {
    "slideshow": {
     "slide_type": "subslide"
    }
   },
   "outputs": [
    {
     "data": {
      "text/html": [
       "<iframe width=\"560\" height=\"315\" src=\"https://www.youtube.com/embed/FmNmRBsEBHE\" title=\"YouTube video player\" frameborder=\"0\" allow=\"accelerometer; autoplay; clipboard-write; encrypted-media; gyroscope; picture-in-picture\" allowfullscreen></iframe>"
      ],
      "text/plain": [
       "<IPython.core.display.HTML object>"
      ]
     },
     "execution_count": 50,
     "metadata": {},
     "output_type": "execute_result"
    }
   ],
   "source": [
    "from IPython.display import HTML\n",
    "HTML('<iframe width=\"560\" height=\"315\" src=\"https://www.youtube.com/embed/FmNmRBsEBHE\" title=\"YouTube video player\" frameborder=\"0\" allow=\"accelerometer; autoplay; clipboard-write; encrypted-media; gyroscope; picture-in-picture\" allowfullscreen></iframe>')"
   ]
  },
  {
   "cell_type": "markdown",
   "metadata": {
    "slideshow": {
     "slide_type": "slide"
    }
   },
   "source": [
    "## PyVista实例-Surface Draped\n",
    "\n",
    "- Drape a surface (2D array) from a line in 3D space. This is a common task to create a 2.5D image/sectional mesh of data like GPR or airborne EM profiles (geophysics applications). This example provides a look into how to create a 2.5D sectional mesh from typical data in those use cases.\n",
    "\n",
    "- Attached below are some example data for this: \n",
    "  * XYZ coordinates of a GPR path and \n",
    "  * a 2D array of data values produced from the GPR."
   ]
  },
  {
   "cell_type": "code",
   "execution_count": 1,
   "metadata": {
    "slideshow": {
     "slide_type": "subslide"
    }
   },
   "outputs": [],
   "source": [
    "%matplotlib inline\n",
    "from pyvista import set_plot_theme\n",
    "set_plot_theme('document')"
   ]
  },
  {
   "cell_type": "code",
   "execution_count": 2,
   "metadata": {
    "slideshow": {
     "slide_type": "fragment"
    }
   },
   "outputs": [],
   "source": [
    "# sphinx_gallery_thumbnail_number = 3\n",
    "import pyvista as pv\n",
    "from pyvista import examples\n",
    "import numpy as np\n",
    "import matplotlib.pyplot as plt\n",
    "\n",
    "# Extract the data archive and load these files\n",
    "# 2D array of XYZ coordinates\n",
    "# path = examples.download_gpr_path().points\n",
    "path = pv.PolyData(np.loadtxt('./vtk-data/Data/gpr-example/path.txt',skiprows=1)).points\n",
    "# 2D array of the data values from the imaging equipment\n",
    "# data = examples.download_gpr_data_array()\n",
    "data = np.load('./vtk-data/Data/gpr-example/data.npy')"
   ]
  },
  {
   "cell_type": "code",
   "execution_count": 3,
   "metadata": {
    "slideshow": {
     "slide_type": "subslide"
    }
   },
   "outputs": [
    {
     "data": {
      "image/png": "[encoded data removed]",
      "text/plain": [
       "<Figure size 1080x216 with 1 Axes>"
      ]
     },
     "metadata": {
      "needs_background": "light"
     },
     "output_type": "display_data"
    }
   ],
   "source": [
    "plt.figure(figsize=(15, 3))\n",
    "plt.pcolormesh(data, cmap=\"seismic\", clim=[-1, 1])\n",
    "plt.gca().invert_yaxis()"
   ]
  },
  {
   "cell_type": "markdown",
   "metadata": {
    "slideshow": {
     "slide_type": "fragment"
    }
   },
   "source": [
    "View the the path of the GPR profile from a top-down perspective. Since we have the full coordinates (XY and Z), we can create a structured mesh \"draping\" down from those coordinates to hold the GPR image data."
   ]
  },
  {
   "cell_type": "code",
   "execution_count": 5,
   "metadata": {
    "slideshow": {
     "slide_type": "subslide"
    }
   },
   "outputs": [
    {
     "data": {
      "text/plain": [
       "Text(0, 0.5, 'Easting')"
      ]
     },
     "execution_count": 5,
     "metadata": {},
     "output_type": "execute_result"
    },
    {
     "data": {
      "image/png": "[encoded data removed]",
      "text/plain": [
       "<Figure size 432x288 with 1 Axes>"
      ]
     },
     "metadata": {
      "needs_background": "light"
     },
     "output_type": "display_data"
    }
   ],
   "source": [
    "plt.scatter(path[:, 1], path[:, 0])\n",
    "plt.axis(\"image\")\n",
    "plt.xlabel(\"Northing\")\n",
    "plt.ylabel(\"Easting\")"
   ]
  },
  {
   "cell_type": "code",
   "execution_count": 6,
   "metadata": {
    "slideshow": {
     "slide_type": "subslide"
    }
   },
   "outputs": [],
   "source": [
    "assert len(path) in data.shape, \"Make sure coordinates are present for every trace.\"\n",
    "# If not, you'll need to interpolate the path!\n",
    "\n",
    "# Grab the number of samples (in Z dir) and number of traces/soundings\n",
    "nsamples, ntraces = data.shape  # Might be opposite for your data, pay attention here\n",
    "\n",
    "# Define the Z spacing of your 2D section\n",
    "z_spacing = 0.12\n",
    "\n",
    "# Create structured points draping down from the path\n",
    "points = np.repeat(path, nsamples, axis=0)\n",
    "# repeat the Z locations across\n",
    "tp = np.arange(0, z_spacing * nsamples, z_spacing)\n",
    "tp = path[:, 2][:, None] - tp\n",
    "points[:, -1] = tp.ravel()"
   ]
  },
  {
   "cell_type": "markdown",
   "metadata": {
    "slideshow": {
     "slide_type": "subslide"
    }
   },
   "source": [
    "Make a StructuredGrid from the structured points"
   ]
  },
  {
   "cell_type": "code",
   "execution_count": 7,
   "metadata": {
    "slideshow": {
     "slide_type": "fragment"
    }
   },
   "outputs": [],
   "source": [
    "grid = pv.StructuredGrid()\n",
    "grid.points = points\n",
    "grid.dimensions = nsamples, ntraces, 1\n",
    "\n",
    "# Add the data array - note the ordering!\n",
    "grid[\"values\"] = data.ravel(order=\"F\")"
   ]
  },
  {
   "cell_type": "markdown",
   "metadata": {
    "slideshow": {
     "slide_type": "fragment"
    }
   },
   "source": [
    "And now we can plot it! or process or do anything, because it is a PyVista mesh and the possibilities are endless with PyVista."
   ]
  },
  {
   "cell_type": "code",
   "execution_count": 8,
   "metadata": {
    "scrolled": true,
    "slideshow": {
     "slide_type": "subslide"
    }
   },
   "outputs": [
    {
     "data": {
      "application/vnd.jupyter.widget-view+json": {
       "model_id": "937a012c8e84444c86dfa8c2e038ff89",
       "version_major": 2,
       "version_minor": 0
      },
      "text/plain": [
       "ViewInteractiveWidget(height=768, layout=Layout(height='auto', width='100%'), width=1024)"
      ]
     },
     "metadata": {},
     "output_type": "display_data"
    }
   ],
   "source": [
    "cpos = [\n",
    "    (1217002.366883762, 345363.80666238244, 3816.828857791056),\n",
    "    (1216322.4753436751, 344033.0310674846, 3331.052985309526),\n",
    "    (-0.17716571330686096, -0.25634368781817973, 0.9502106207279767),\n",
    "]\n",
    "\n",
    "p = pv.Plotter()\n",
    "p.add_mesh(grid, cmap=\"seismic\", clim=[-1, 1])\n",
    "p.add_mesh(pv.PolyData(path), color=\"orange\")\n",
    "p.show(cpos=cpos)"
   ]
  },
  {
   "cell_type": "markdown",
   "metadata": {
    "slideshow": {
     "slide_type": "slide"
    }
   },
   "source": [
    "## PyVista实例-Terrain Following Mesh\n",
    "\n",
    "- Use a topographic surface to create a 3D terrain-following mesh. Terrain following meshes are common in the environmental sciences, for instance in hydrological modelling (see [`ParFlow`](https://parflow.org)).\n",
    "\n",
    "- In this example, we demonstrate a simple way to make a 3D grid/mesh that follows a given topographic surface. "
   ]
  },
  {
   "cell_type": "code",
   "execution_count": 9,
   "metadata": {
    "slideshow": {
     "slide_type": "subslide"
    }
   },
   "outputs": [],
   "source": [
    "# sphinx_gallery_thumbnail_number = 3\n",
    "import pyvista as pv\n",
    "import numpy as np\n",
    "from pyvista import examples"
   ]
  },
  {
   "cell_type": "markdown",
   "metadata": {
    "slideshow": {
     "slide_type": "fragment"
    }
   },
   "source": [
    "Download a gridded topography surface (DEM)"
   ]
  },
  {
   "cell_type": "code",
   "execution_count": 10,
   "metadata": {
    "slideshow": {
     "slide_type": "fragment"
    }
   },
   "outputs": [
    {
     "data": {
      "text/html": [
       "<table><tr><th>Header</th><th>Data Arrays</th></tr><tr><td>\n",
       "<table>\n",
       "<tr><th>UniformGrid</th><th>Information</th></tr>\n",
       "<tr><td>N Cells</td><td>1677401</td></tr>\n",
       "<tr><td>N Points</td><td>1680000</td></tr>\n",
       "<tr><td>X Bounds</td><td>1.810e+06, 1.831e+06</td></tr>\n",
       "<tr><td>Y Bounds</td><td>5.640e+06, 5.658e+06</td></tr>\n",
       "<tr><td>Z Bounds</td><td>0.000e+00, 0.000e+00</td></tr>\n",
       "<tr><td>Dimensions</td><td>1400, 1200, 1</td></tr>\n",
       "<tr><td>Spacing</td><td>1.500e+01, 1.500e+01, 0.000e+00</td></tr>\n",
       "<tr><td>N Arrays</td><td>1</td></tr>\n",
       "</table>\n",
       "\n",
       "</td><td>\n",
       "<table>\n",
       "<tr><th>Name</th><th>Field</th><th>Type</th><th>N Comp</th><th>Min</th><th>Max</th></tr>\n",
       "<tr><td><b>scalar1of1</b></td><td>Points</td><td>float64</td><td>1</td><td>7.339e+02</td><td>2.787e+03</td></tr>\n",
       "</table>\n",
       "\n",
       "</td></tr> </table>"
      ],
      "text/plain": [
       "UniformGrid (0x177beb7c0)\n",
       "  N Cells:\t1677401\n",
       "  N Points:\t1680000\n",
       "  X Bounds:\t1.810e+06, 1.831e+06\n",
       "  Y Bounds:\t5.640e+06, 5.658e+06\n",
       "  Z Bounds:\t0.000e+00, 0.000e+00\n",
       "  Dimensions:\t1400, 1200, 1\n",
       "  Spacing:\t1.500e+01, 1.500e+01, 0.000e+00\n",
       "  N Arrays:\t1"
      ]
     },
     "execution_count": 10,
     "metadata": {},
     "output_type": "execute_result"
    }
   ],
   "source": [
    "# dem = examples.download_crater_topo()\n",
    "dem = pv.read('./vtk-data/Data/Ruapehu_mag_dem_15m_NZTM.vtk')\n",
    "dem"
   ]
  },
  {
   "cell_type": "markdown",
   "metadata": {
    "slideshow": {
     "slide_type": "subslide"
    }
   },
   "source": [
    "Now let's subsample and extract an area of interest to make this example simple (also the DEM we just load is pretty big). Since the DEM we loaded is a :class:`pyvista.UniformGrid` mesh, we can use the filter function: \n",
    "\n",
    "```python\n",
    "pyvista.UniformGridFilters.extract_subset\n",
    "```"
   ]
  },
  {
   "cell_type": "code",
   "execution_count": 11,
   "metadata": {
    "scrolled": true,
    "slideshow": {
     "slide_type": "subslide"
    }
   },
   "outputs": [
    {
     "data": {
      "application/vnd.jupyter.widget-view+json": {
       "model_id": "fa79b47a2490480b98a6650b55a00e63",
       "version_major": 2,
       "version_minor": 0
      },
      "text/plain": [
       "ViewInteractiveWidget(height=768, layout=Layout(height='auto', width='100%'), width=1024)"
      ]
     },
     "metadata": {},
     "output_type": "display_data"
    }
   ],
   "source": [
    "subset = dem.extract_subset((500, 900, 400, 800, 0, 0), (5, 5, 1))\n",
    "subset.plot(cpos=\"xy\")"
   ]
  },
  {
   "cell_type": "markdown",
   "metadata": {
    "slideshow": {
     "slide_type": "subslide"
    }
   },
   "source": [
    "Now that we have a region of interest for our terrain following mesh, lets make a 3D surface of that DEM."
   ]
  },
  {
   "cell_type": "code",
   "execution_count": 12,
   "metadata": {
    "slideshow": {
     "slide_type": "fragment"
    }
   },
   "outputs": [
    {
     "data": {
      "text/html": [
       "<table><tr><th>Header</th><th>Data Arrays</th></tr><tr><td>\n",
       "<table>\n",
       "<tr><th>StructuredGrid</th><th>Information</th></tr>\n",
       "<tr><td>N Cells</td><td>6400</td></tr>\n",
       "<tr><td>N Points</td><td>6561</td></tr>\n",
       "<tr><td>X Bounds</td><td>1.818e+06, 1.824e+06</td></tr>\n",
       "<tr><td>Y Bounds</td><td>5.646e+06, 5.652e+06</td></tr>\n",
       "<tr><td>Z Bounds</td><td>1.441e+03, 2.769e+03</td></tr>\n",
       "<tr><td>Dimensions</td><td>81, 81, 1</td></tr>\n",
       "<tr><td>N Arrays</td><td>1</td></tr>\n",
       "</table>\n",
       "\n",
       "</td><td>\n",
       "<table>\n",
       "<tr><th>Name</th><th>Field</th><th>Type</th><th>N Comp</th><th>Min</th><th>Max</th></tr>\n",
       "<tr><td><b>scalar1of1</b></td><td>Points</td><td>float64</td><td>1</td><td>1.441e+03</td><td>2.769e+03</td></tr>\n",
       "</table>\n",
       "\n",
       "</td></tr> </table>"
      ],
      "text/plain": [
       "StructuredGrid (0x178294d00)\n",
       "  N Cells:\t6400\n",
       "  N Points:\t6561\n",
       "  X Bounds:\t1.818e+06, 1.824e+06\n",
       "  Y Bounds:\t5.646e+06, 5.652e+06\n",
       "  Z Bounds:\t1.441e+03, 2.769e+03\n",
       "  Dimensions:\t81, 81, 1\n",
       "  N Arrays:\t1"
      ]
     },
     "execution_count": 12,
     "metadata": {},
     "output_type": "execute_result"
    }
   ],
   "source": [
    "terrain = subset.warp_by_scalar()\n",
    "terrain"
   ]
  },
  {
   "cell_type": "code",
   "execution_count": 13,
   "metadata": {
    "scrolled": true,
    "slideshow": {
     "slide_type": "subslide"
    }
   },
   "outputs": [
    {
     "data": {
      "application/vnd.jupyter.widget-view+json": {
       "model_id": "90b83babc4074e74bb88a45564435f68",
       "version_major": 2,
       "version_minor": 0
      },
      "text/plain": [
       "ViewInteractiveWidget(height=768, layout=Layout(height='auto', width='100%'), width=1024)"
      ]
     },
     "metadata": {},
     "output_type": "display_data"
    }
   ],
   "source": [
    "terrain.plot()"
   ]
  },
  {
   "cell_type": "markdown",
   "metadata": {
    "slideshow": {
     "slide_type": "subslide"
    }
   },
   "source": [
    "And now we have a 3D structured surface of the terrain! We can now extend that structured surface into a 3D mesh to form a terrain following grid. To do this, we first our cell spacings in the z-direction (these start from the terrain surface). Then we repeat the XYZ structured coordinates of the terrain mesh and decrease each Z level by our Z cell spacing. Once we have those structured coordinates, we can create a class: `pyvista.StructuredGrid`."
   ]
  },
  {
   "cell_type": "code",
   "execution_count": 14,
   "metadata": {
    "slideshow": {
     "slide_type": "subslide"
    }
   },
   "outputs": [
    {
     "data": {
      "text/html": [
       "<table><tr><th>Header</th><th>Data Arrays</th></tr><tr><td>\n",
       "<table>\n",
       "<tr><th>StructuredGrid</th><th>Information</th></tr>\n",
       "<tr><td>N Cells</td><td>70400</td></tr>\n",
       "<tr><td>N Points</td><td>78732</td></tr>\n",
       "<tr><td>X Bounds</td><td>1.818e+06, 1.824e+06</td></tr>\n",
       "<tr><td>Y Bounds</td><td>5.646e+06, 5.652e+06</td></tr>\n",
       "<tr><td>Z Bounds</td><td>9.364e+02, 2.744e+03</td></tr>\n",
       "<tr><td>Dimensions</td><td>81, 81, 12</td></tr>\n",
       "<tr><td>N Arrays</td><td>1</td></tr>\n",
       "</table>\n",
       "\n",
       "</td><td>\n",
       "<table>\n",
       "<tr><th>Name</th><th>Field</th><th>Type</th><th>N Comp</th><th>Min</th><th>Max</th></tr>\n",
       "<tr><td><b>Elevation</b></td><td>Points</td><td>float64</td><td>1</td><td>9.364e+02</td><td>2.744e+03</td></tr>\n",
       "</table>\n",
       "\n",
       "</td></tr> </table>"
      ],
      "text/plain": [
       "StructuredGrid (0x178294750)\n",
       "  N Cells:\t70400\n",
       "  N Points:\t78732\n",
       "  X Bounds:\t1.818e+06, 1.824e+06\n",
       "  Y Bounds:\t5.646e+06, 5.652e+06\n",
       "  Z Bounds:\t9.364e+02, 2.744e+03\n",
       "  Dimensions:\t81, 81, 12\n",
       "  N Arrays:\t1"
      ]
     },
     "execution_count": 14,
     "metadata": {},
     "output_type": "execute_result"
    }
   ],
   "source": [
    "z_cells = np.array([25] * 5 + [35] * 3 + [50] * 2 + [75, 100])\n",
    "\n",
    "xx = np.repeat(terrain.x, len(z_cells), axis=-1)\n",
    "yy = np.repeat(terrain.y, len(z_cells), axis=-1)\n",
    "zz = np.repeat(terrain.z, len(z_cells), axis=-1) - np.cumsum(z_cells).reshape(\n",
    "    (1, 1, -1)\n",
    ")\n",
    "\n",
    "mesh = pv.StructuredGrid(xx, yy, zz)\n",
    "mesh[\"Elevation\"] = zz.ravel(order=\"F\")\n",
    "mesh"
   ]
  },
  {
   "cell_type": "code",
   "execution_count": 15,
   "metadata": {
    "scrolled": true,
    "slideshow": {
     "slide_type": "subslide"
    }
   },
   "outputs": [
    {
     "data": {
      "application/vnd.jupyter.widget-view+json": {
       "model_id": "998e92c6b904437ebba7f69af523170a",
       "version_major": 2,
       "version_minor": 0
      },
      "text/plain": [
       "ViewInteractiveWidget(height=768, layout=Layout(height='auto', width='100%'), width=1024)"
      ]
     },
     "metadata": {},
     "output_type": "display_data"
    }
   ],
   "source": [
    "cpos = [\n",
    "    (1826736.796308761, 5655837.275274233, 4676.8405505181745),\n",
    "    (1821066.1790519988, 5649248.765538796, 943.0995128226014),\n",
    "    (-0.2797856225380979, -0.27966946337594883, 0.9184252809434081),\n",
    "]\n",
    "\n",
    "mesh.plot(show_edges=True, lighting=False, cpos=cpos)"
   ]
  },
  {
   "cell_type": "markdown",
   "metadata": {
    "slideshow": {
     "slide_type": "slide"
    }
   },
   "source": [
    "## PVGeo\n",
    "<br/>\n",
    "\n",
    "<center class=\"half\">\n",
    "    <img src=\"./fig/expansion-diagram.png\" style=\"float: center; width:700px\"/> \n",
    "</center>  "
   ]
  },
  {
   "cell_type": "markdown",
   "metadata": {
    "slideshow": {
     "slide_type": "subslide"
    }
   },
   "source": [
    "## PVGeo\n",
    "<br/>\n",
    "\n",
    "<center class=\"half\">\n",
    "    <img src=\"./fig/pvgeo-integrated-scene.png\" style=\"float: center; width:800px\"/> \n",
    "</center>  "
   ]
  },
  {
   "cell_type": "markdown",
   "metadata": {
    "slideshow": {
     "slide_type": "slide"
    }
   },
   "source": [
    "## PVGeo实例-FORGE"
   ]
  },
  {
   "cell_type": "code",
   "execution_count": 16,
   "metadata": {
    "slideshow": {
     "slide_type": "fragment"
    }
   },
   "outputs": [],
   "source": [
    "import pyvista as pv\n",
    "import PVGeo\n",
    "import pandas as pd\n",
    "import numpy as np\n",
    "import imageio\n",
    "import matplotlib.pyplot as plt\n",
    "import shapefile\n",
    "from sklearn.neighbors import KDTree as Tree\n",
    "import os"
   ]
  },
  {
   "cell_type": "code",
   "execution_count": 17,
   "metadata": {
    "slideshow": {
     "slide_type": "subslide"
    }
   },
   "outputs": [],
   "source": [
    "assert os.path.isdir(\"./forge-demo/data\")"
   ]
  },
  {
   "cell_type": "code",
   "execution_count": 18,
   "metadata": {
    "slideshow": {
     "slide_type": "fragment"
    }
   },
   "outputs": [
    {
     "name": "stdout",
     "output_type": "stream",
     "text": [
      "Negro_Mag_Fault_vertices.csv\r\n",
      "Opal_Mound_Fault_vertices.csv\r\n",
      "\u001b[1m\u001b[34mRoosevelt Hot Springs FORGE Site Outline\u001b[m\u001b[m\r\n",
      "geology-aerial-compressed.png\r\n",
      "land_surface_vertices.csv\r\n",
      "\u001b[1m\u001b[34mmodel\u001b[m\u001b[m\r\n",
      "temperature_model.sgems\r\n",
      "top_granitoid_vertices.csv\r\n",
      "well_based_temperature.csv\r\n"
     ]
    }
   ],
   "source": [
    "!ls ./forge-demo/data"
   ]
  },
  {
   "cell_type": "markdown",
   "metadata": {
    "slideshow": {
     "slide_type": "subslide"
    }
   },
   "source": [
    "### Surfaces\n",
    "\n",
    "Remember the surface data types from the presentation? Let's make some from raw data files we were given!"
   ]
  },
  {
   "cell_type": "code",
   "execution_count": 19,
   "metadata": {
    "slideshow": {
     "slide_type": "fragment"
    }
   },
   "outputs": [
    {
     "data": {
      "text/html": [
       "<div>\n",
       "<style scoped>\n",
       "    .dataframe tbody tr th:only-of-type {\n",
       "        vertical-align: middle;\n",
       "    }\n",
       "\n",
       "    .dataframe tbody tr th {\n",
       "        vertical-align: top;\n",
       "    }\n",
       "\n",
       "    .dataframe thead th {\n",
       "        text-align: right;\n",
       "    }\n",
       "</style>\n",
       "<table border=\"1\" class=\"dataframe\">\n",
       "  <thead>\n",
       "    <tr style=\"text-align: right;\">\n",
       "      <th></th>\n",
       "      <th>x</th>\n",
       "      <th>y</th>\n",
       "      <th>z</th>\n",
       "    </tr>\n",
       "  </thead>\n",
       "  <tbody>\n",
       "    <tr>\n",
       "      <th>0</th>\n",
       "      <td>329924.988160</td>\n",
       "      <td>4.270951e+06</td>\n",
       "      <td>1493.691650</td>\n",
       "    </tr>\n",
       "    <tr>\n",
       "      <th>1</th>\n",
       "      <td>329924.988160</td>\n",
       "      <td>4.270926e+06</td>\n",
       "      <td>1493.996460</td>\n",
       "    </tr>\n",
       "    <tr>\n",
       "      <th>2</th>\n",
       "      <td>329949.993331</td>\n",
       "      <td>4.270926e+06</td>\n",
       "      <td>1493.786011</td>\n",
       "    </tr>\n",
       "    <tr>\n",
       "      <th>3</th>\n",
       "      <td>329949.993331</td>\n",
       "      <td>4.270951e+06</td>\n",
       "      <td>1493.691650</td>\n",
       "    </tr>\n",
       "    <tr>\n",
       "      <th>4</th>\n",
       "      <td>329974.998501</td>\n",
       "      <td>4.270926e+06</td>\n",
       "      <td>1493.790039</td>\n",
       "    </tr>\n",
       "  </tbody>\n",
       "</table>\n",
       "</div>"
      ],
      "text/plain": [
       "               x             y            z\n",
       "0  329924.988160  4.270951e+06  1493.691650\n",
       "1  329924.988160  4.270926e+06  1493.996460\n",
       "2  329949.993331  4.270926e+06  1493.786011\n",
       "3  329949.993331  4.270951e+06  1493.691650\n",
       "4  329974.998501  4.270926e+06  1493.790039"
      ]
     },
     "execution_count": 19,
     "metadata": {},
     "output_type": "execute_result"
    }
   ],
   "source": [
    "topo_df = pd.read_csv(\"./forge-demo/data/land_surface_vertices.csv\")\n",
    "topo_df.head()"
   ]
  },
  {
   "cell_type": "markdown",
   "metadata": {
    "slideshow": {
     "slide_type": "subslide"
    }
   },
   "source": [
    "Looks like we have some simple `X, Y, Z` vertices, let's make a point cloud, then triangulate them into a surface mesh"
   ]
  },
  {
   "cell_type": "code",
   "execution_count": 20,
   "metadata": {
    "slideshow": {
     "slide_type": "fragment"
    }
   },
   "outputs": [
    {
     "data": {
      "text/html": [
       "\n",
       "<table>\n",
       "<tr><th>PolyData</th><th>Information</th></tr>\n",
       "<tr><td>N Cells</td><td>824279</td></tr>\n",
       "<tr><td>N Points</td><td>413250</td></tr>\n",
       "<tr><td>X Bounds</td><td>3.299e+05, 3.442e+05</td></tr>\n",
       "<tr><td>Y Bounds</td><td>4.253e+06, 4.271e+06</td></tr>\n",
       "<tr><td>Z Bounds</td><td>1.494e+03, 2.723e+03</td></tr>\n",
       "<tr><td>N Arrays</td><td>0</td></tr>\n",
       "</table>\n",
       "\n"
      ],
      "text/plain": [
       "PolyData (0x104edf6e0)\n",
       "  N Cells:\t824279\n",
       "  N Points:\t413250\n",
       "  X Bounds:\t3.299e+05, 3.442e+05\n",
       "  Y Bounds:\t4.253e+06, 4.271e+06\n",
       "  Z Bounds:\t1.494e+03, 2.723e+03\n",
       "  N Arrays:\t0"
      ]
     },
     "execution_count": 20,
     "metadata": {},
     "output_type": "execute_result"
    }
   ],
   "source": [
    "topo = pv.PolyData(topo_df.values).delaunay_2d()\n",
    "topo"
   ]
  },
  {
   "cell_type": "code",
   "execution_count": 21,
   "metadata": {
    "slideshow": {
     "slide_type": "subslide"
    }
   },
   "outputs": [
    {
     "data": {
      "application/vnd.jupyter.widget-view+json": {
       "model_id": "ba08837be7a54a70bb34d7895bf8373c",
       "version_major": 2,
       "version_minor": 0
      },
      "text/plain": [
       "ViewInteractiveWidget(height=768, layout=Layout(height='auto', width='100%'), width=1024)"
      ]
     },
     "metadata": {},
     "output_type": "display_data"
    }
   ],
   "source": [
    "topo.plot(notebook=True, show_grid=True)"
   ]
  },
  {
   "cell_type": "markdown",
   "metadata": {
    "slideshow": {
     "slide_type": "subslide"
    }
   },
   "source": [
    "Now let's do the same thing for all the other surfaces given by defining a simple function."
   ]
  },
  {
   "cell_type": "code",
   "execution_count": 22,
   "metadata": {
    "slideshow": {
     "slide_type": "fragment"
    }
   },
   "outputs": [
    {
     "data": {
      "text/plain": [
       "(vtkmodules.vtkRenderingOpenGL2.vtkOpenGLActor)0x104e8c8a0"
      ]
     },
     "execution_count": 22,
     "metadata": {},
     "output_type": "execute_result"
    }
   ],
   "source": [
    "read_surf = lambda f: pv.PolyData(pd.read_csv(f).values).delaunay_2d()\n",
    "\n",
    "granite_raw = read_surf(\"./forge-demo/data/top_granitoid_vertices.csv\")\n",
    "negro = read_surf(\"./forge-demo/data/Negro_Mag_Fault_vertices.csv\")\n",
    "opal = read_surf(\"./forge-demo/data/Opal_Mound_Fault_vertices.csv\")\n",
    "p = pv.Plotter()\n",
    "p.add_mesh(granite_raw, color=\"gray\")\n",
    "p.add_mesh(negro, color=\"orange\")\n",
    "p.add_mesh(opal, color=\"blue\")\n",
    "p.add_mesh(topo, color=\"tan\", opacity=0.5)"
   ]
  },
  {
   "cell_type": "code",
   "execution_count": 23,
   "metadata": {
    "slideshow": {
     "slide_type": "subslide"
    }
   },
   "outputs": [
    {
     "data": {
      "application/vnd.jupyter.widget-view+json": {
       "model_id": "fa830373a0574385a3ede91a903ac896",
       "version_major": 2,
       "version_minor": 0
      },
      "text/plain": [
       "ViewInteractiveWidget(height=768, layout=Layout(height='auto', width='100%'), width=1024)"
      ]
     },
     "metadata": {},
     "output_type": "display_data"
    }
   ],
   "source": [
    "p.show_grid()\n",
    "p.show()"
   ]
  },
  {
   "cell_type": "markdown",
   "metadata": {
    "slideshow": {
     "slide_type": "subslide"
    }
   },
   "source": [
    "Hm. It looks like the granite and the topography overlap. Let's fix that by clipping the granite surface by the topography surface."
   ]
  },
  {
   "cell_type": "code",
   "execution_count": 24,
   "metadata": {
    "slideshow": {
     "slide_type": "fragment"
    }
   },
   "outputs": [
    {
     "data": {
      "text/plain": [
       "(vtkmodules.vtkRenderingOpenGL2.vtkOpenGLActor)0x1468c5f30"
      ]
     },
     "execution_count": 24,
     "metadata": {},
     "output_type": "execute_result"
    }
   ],
   "source": [
    "granite = granite_raw.clip_surface(topo, invert=False, value=2.0)\n",
    "\n",
    "p = pv.Plotter()\n",
    "p.add_mesh(granite, color=\"gray\")\n",
    "p.add_mesh(negro, color=\"orange\")\n",
    "p.add_mesh(opal, color=\"blue\")\n",
    "p.add_mesh(topo, color=\"tan\", opacity=0.5)"
   ]
  },
  {
   "cell_type": "code",
   "execution_count": 25,
   "metadata": {
    "slideshow": {
     "slide_type": "subslide"
    }
   },
   "outputs": [
    {
     "data": {
      "application/vnd.jupyter.widget-view+json": {
       "model_id": "b6d8d284e2be416ab587d18c6fa8b8dd",
       "version_major": 2,
       "version_minor": 0
      },
      "text/plain": [
       "ViewInteractiveWidget(height=768, layout=Layout(height='auto', width='100%'), width=1024)"
      ]
     },
     "metadata": {},
     "output_type": "display_data"
    }
   ],
   "source": [
    "p.show_grid()\n",
    "p.show()"
   ]
  },
  {
   "cell_type": "markdown",
   "metadata": {
    "slideshow": {
     "slide_type": "subslide"
    }
   },
   "source": [
    "### Geological Map\n",
    "\n",
    "We were also given a PNG file of a geological map. Remember how PNG images are not truly \"digital\" data but \"paleodigital\"? That's because the spatial reference of a PNG is unknown. You'd have to have some accompanying meta data to define the spatial reference. In this case, we know the image to the follow UV coordinates:\n",
    "\n",
    "```\n",
    "origin = [310967.75148705, 4238841.04545394, 0.]\n",
    "axis_u = [47715.1849411, 0., 0.]\n",
    "axis_v = [0., 37440.94209864, 0.]\n",
    "```"
   ]
  },
  {
   "cell_type": "code",
   "execution_count": 26,
   "metadata": {
    "slideshow": {
     "slide_type": "subslide"
    }
   },
   "outputs": [],
   "source": [
    "origin = np.array([310967.75148705, 4238841.04545394, 0.])\n",
    "point_u = origin + np.array([47715.1849411, 0., 0.])\n",
    "point_v = origin + np.array([0., 37440.94209864, 0.])\n",
    "filename = \"./forge-demo/data/geology-aerial-compressed.png\""
   ]
  },
  {
   "cell_type": "markdown",
   "metadata": {
    "slideshow": {
     "slide_type": "subslide"
    }
   },
   "source": [
    "There are a few different ways that we can read this image\n",
    "\n",
    "- As a raw NumPy array\n",
    "- As a `pyvista.Texture` object for plotting\n",
    "- and more..."
   ]
  },
  {
   "cell_type": "code",
   "execution_count": 27,
   "metadata": {
    "slideshow": {
     "slide_type": "fragment"
    }
   },
   "outputs": [
    {
     "data": {
      "text/plain": [
       "(dtype('uint8'), (8769, 11175, 4))"
      ]
     },
     "execution_count": 27,
     "metadata": {},
     "output_type": "execute_result"
    }
   ],
   "source": [
    "# read as a NumPy array\n",
    "img = imageio.imread(filename)\n",
    "img.dtype, img.shape"
   ]
  },
  {
   "cell_type": "code",
   "execution_count": 28,
   "metadata": {
    "slideshow": {
     "slide_type": "subslide"
    }
   },
   "outputs": [
    {
     "data": {
      "text/plain": [
       "<matplotlib.image.AxesImage at 0x104f3d110>"
      ]
     },
     "execution_count": 28,
     "metadata": {},
     "output_type": "execute_result"
    },
    {
     "data": {
      "image/png": "[encoded data removed]",
      "text/plain": [
       "<Figure size 432x288 with 1 Axes>"
      ]
     },
     "metadata": {
      "needs_background": "light"
     },
     "output_type": "display_data"
    }
   ],
   "source": [
    "plt.imshow(img)"
   ]
  },
  {
   "cell_type": "code",
   "execution_count": 29,
   "metadata": {
    "slideshow": {
     "slide_type": "subslide"
    }
   },
   "outputs": [
    {
     "data": {
      "text/plain": [
       "(Texture)0x13882c130"
      ]
     },
     "execution_count": 29,
     "metadata": {},
     "output_type": "execute_result"
    }
   ],
   "source": [
    "# Or read as a texture for PyVista\n",
    "texture = pv.read_texture(filename)\n",
    "texture"
   ]
  },
  {
   "cell_type": "markdown",
   "metadata": {
    "slideshow": {
     "slide_type": "fragment"
    }
   },
   "source": [
    "So now that we have the image loaded as a texture, we need to associate it with the topography surface so that it can be display ontop of the topography. To do so, we use the UV coordinates defineed above with `pyvista`'s `texture_map_to_plane` method."
   ]
  },
  {
   "cell_type": "code",
   "execution_count": 30,
   "metadata": {
    "slideshow": {
     "slide_type": "fragment"
    }
   },
   "outputs": [],
   "source": [
    "# Perfrom the texture mapping\n",
    "topo_tex = topo.texture_map_to_plane(origin, point_u, point_v)\n",
    "# Associate that texture\n",
    "topo_tex.textures[\"map\"] = texture"
   ]
  },
  {
   "cell_type": "code",
   "execution_count": 31,
   "metadata": {
    "slideshow": {
     "slide_type": "subslide"
    }
   },
   "outputs": [
    {
     "data": {
      "application/vnd.jupyter.widget-view+json": {
       "model_id": "9ac4a14c11d2437d9ff6b566b2309d34",
       "version_major": 2,
       "version_minor": 0
      },
      "text/plain": [
       "ViewInteractiveWidget(height=768, layout=Layout(height='auto', width='100%'), width=1024)"
      ]
     },
     "metadata": {},
     "output_type": "display_data"
    }
   ],
   "source": [
    "p = pv.Plotter(notebook=True)\n",
    "p.add_mesh(topo_tex)\n",
    "p.show()"
   ]
  },
  {
   "cell_type": "markdown",
   "metadata": {
    "slideshow": {
     "slide_type": "subslide"
    }
   },
   "source": [
    "### Point Clouds of Data\n",
    "\n",
    "Let's check out the `well_based_temperature.csv` file"
   ]
  },
  {
   "cell_type": "code",
   "execution_count": 32,
   "metadata": {
    "slideshow": {
     "slide_type": "fragment"
    }
   },
   "outputs": [
    {
     "data": {
      "text/html": [
       "<div>\n",
       "<style scoped>\n",
       "    .dataframe tbody tr th:only-of-type {\n",
       "        vertical-align: middle;\n",
       "    }\n",
       "\n",
       "    .dataframe tbody tr th {\n",
       "        vertical-align: top;\n",
       "    }\n",
       "\n",
       "    .dataframe thead th {\n",
       "        text-align: right;\n",
       "    }\n",
       "</style>\n",
       "<table border=\"1\" class=\"dataframe\">\n",
       "  <thead>\n",
       "    <tr style=\"text-align: right;\">\n",
       "      <th></th>\n",
       "      <th>x</th>\n",
       "      <th>y</th>\n",
       "      <th>z</th>\n",
       "      <th>T</th>\n",
       "    </tr>\n",
       "  </thead>\n",
       "  <tbody>\n",
       "    <tr>\n",
       "      <th>0</th>\n",
       "      <td>339385.01</td>\n",
       "      <td>4264212.99</td>\n",
       "      <td>1680.6</td>\n",
       "      <td>150.0</td>\n",
       "    </tr>\n",
       "    <tr>\n",
       "      <th>1</th>\n",
       "      <td>339385.01</td>\n",
       "      <td>4264212.99</td>\n",
       "      <td>880.6</td>\n",
       "      <td>195.0</td>\n",
       "    </tr>\n",
       "    <tr>\n",
       "      <th>2</th>\n",
       "      <td>339385.01</td>\n",
       "      <td>4264212.99</td>\n",
       "      <td>-119.4</td>\n",
       "      <td>195.0</td>\n",
       "    </tr>\n",
       "    <tr>\n",
       "      <th>3</th>\n",
       "      <td>337709.02</td>\n",
       "      <td>4260660.00</td>\n",
       "      <td>1596.3</td>\n",
       "      <td>250.0</td>\n",
       "    </tr>\n",
       "    <tr>\n",
       "      <th>4</th>\n",
       "      <td>337709.02</td>\n",
       "      <td>4260660.00</td>\n",
       "      <td>796.3</td>\n",
       "      <td>262.0</td>\n",
       "    </tr>\n",
       "  </tbody>\n",
       "</table>\n",
       "</div>"
      ],
      "text/plain": [
       "           x           y       z      T\n",
       "0  339385.01  4264212.99  1680.6  150.0\n",
       "1  339385.01  4264212.99   880.6  195.0\n",
       "2  339385.01  4264212.99  -119.4  195.0\n",
       "3  337709.02  4260660.00  1596.3  250.0\n",
       "4  337709.02  4260660.00   796.3  262.0"
      ]
     },
     "execution_count": 32,
     "metadata": {},
     "output_type": "execute_result"
    }
   ],
   "source": [
    "temp_df = pd.read_csv(\"./forge-demo/data/well_based_temperature.csv\")\n",
    "temp_df.head()"
   ]
  },
  {
   "cell_type": "code",
   "execution_count": 33,
   "metadata": {
    "slideshow": {
     "slide_type": "subslide"
    }
   },
   "outputs": [
    {
     "data": {
      "application/vnd.jupyter.widget-view+json": {
       "model_id": "48f9accc635346fe8de587c0554d54ba",
       "version_major": 2,
       "version_minor": 0
      },
      "text/plain": [
       "ViewInteractiveWidget(height=768, layout=Layout(height='auto', width='100%'), width=1024)"
      ]
     },
     "metadata": {},
     "output_type": "display_data"
    }
   ],
   "source": [
    "temp = pv.PolyData(temp_df[[\"x\", \"y\", \"z\"]].values)\n",
    "temp[\"Temperature (C)\"] = temp_df[\"T\"]\n",
    "temp.plot(cmap=\"coolwarm\", render_points_as_spheres=True)"
   ]
  },
  {
   "cell_type": "markdown",
   "metadata": {
    "slideshow": {
     "slide_type": "subslide"
    }
   },
   "source": [
    "### Shape Files\n",
    "\n",
    "We were also given some shape files in the `Roosevelt Hot Springs FORGE Site Outline` directory, so let's deal with those too"
   ]
  },
  {
   "cell_type": "code",
   "execution_count": 34,
   "metadata": {
    "slideshow": {
     "slide_type": "fragment"
    }
   },
   "outputs": [
    {
     "data": {
      "text/plain": [
       "ShapeRecords: [<shapefile.ShapeRecord object at 0x138858750>]"
      ]
     },
     "execution_count": 34,
     "metadata": {},
     "output_type": "execute_result"
    }
   ],
   "source": [
    "filename = \"./forge-demo/data/Roosevelt Hot Springs FORGE Site Outline/FORGE_Outline\"\n",
    "shp = shapefile.Reader(filename)\n",
    "records = shp.shapeRecords()\n",
    "records"
   ]
  },
  {
   "cell_type": "code",
   "execution_count": 35,
   "metadata": {
    "slideshow": {
     "slide_type": "fragment"
    }
   },
   "outputs": [
    {
     "data": {
      "text/plain": [
       "True"
      ]
     },
     "execution_count": 35,
     "metadata": {},
     "output_type": "execute_result"
    }
   ],
   "source": [
    "shape = records[0].shape\n",
    "shape.shapeType == shapefile.POLYGON"
   ]
  },
  {
   "cell_type": "code",
   "execution_count": 36,
   "metadata": {
    "slideshow": {
     "slide_type": "subslide"
    }
   },
   "outputs": [
    {
     "data": {
      "text/html": [
       "\n",
       "<table>\n",
       "<tr><th>PolyData</th><th>Information</th></tr>\n",
       "<tr><td>N Cells</td><td>10</td></tr>\n",
       "<tr><td>N Points</td><td>11</td></tr>\n",
       "<tr><td>X Bounds</td><td>3.329e+05, 3.361e+05</td></tr>\n",
       "<tr><td>Y Bounds</td><td>4.261e+06, 4.265e+06</td></tr>\n",
       "<tr><td>Z Bounds</td><td>1.600e+03, 1.730e+03</td></tr>\n",
       "<tr><td>N Arrays</td><td>0</td></tr>\n",
       "</table>\n",
       "\n"
      ],
      "text/plain": [
       "PolyData (0x13883a600)\n",
       "  N Cells:\t10\n",
       "  N Points:\t11\n",
       "  X Bounds:\t3.329e+05, 3.361e+05\n",
       "  Y Bounds:\t4.261e+06, 4.265e+06\n",
       "  Z Bounds:\t1.600e+03, 1.730e+03\n",
       "  N Arrays:\t0"
      ]
     },
     "execution_count": 36,
     "metadata": {},
     "output_type": "execute_result"
    }
   ],
   "source": [
    "def _fix_to_topography(topo_points, points_to_update, static=20.0):\n",
    "    \"\"\"Update the z component of points to force them to lie on a topo surface\"\"\"\n",
    "    tree = Tree(topo_points)\n",
    "    ind = tree.query(points_to_update, k=1)[1].ravel()\n",
    "    # Now update the elevation to be on the topo surface\n",
    "    # Also shift it so its always just above the surface and not in the surface\n",
    "    points_to_update[:,2] = topo_points[:,2][ind] + static\n",
    "    return points_to_update\n",
    "\n",
    "\n",
    "def polygon_to_vtk(polygon, topo_points):\n",
    "    \"\"\"Converts a polygon shape to a pyvista.PolyData object.\n",
    "    This assumes the points are ordered.\n",
    "    \"\"\"\n",
    "    pts = np.array(polygon.points)\n",
    "    pts = np.c_[pts, np.zeros(pts.shape[0])]\n",
    "    pts = _fix_to_topography(topo_points, pts)\n",
    "    return pv.lines_from_points(pts)\n",
    "    \n",
    "\n",
    "boundary = polygon_to_vtk(shape, topo.points)\n",
    "boundary"
   ]
  },
  {
   "cell_type": "markdown",
   "metadata": {
    "slideshow": {
     "slide_type": "subslide"
    }
   },
   "source": [
    "## Put it all Together"
   ]
  },
  {
   "cell_type": "code",
   "execution_count": 37,
   "metadata": {
    "slideshow": {
     "slide_type": "fragment"
    }
   },
   "outputs": [
    {
     "data": {
      "text/plain": [
       "(vtkmodules.vtkRenderingOpenGL2.vtkOpenGLActor)0x138863fa0"
      ]
     },
     "execution_count": 37,
     "metadata": {},
     "output_type": "execute_result"
    }
   ],
   "source": [
    "p = pv.Plotter(notebook=True)\n",
    "p.add_mesh(topo_tex)\n",
    "p.add_mesh(temp, cmap=\"coolwarm\", render_points_as_spheres=True, point_size=10)\n",
    "p.add_mesh(granite, color=\"gray\")\n",
    "p.add_mesh(negro, color=\"orange\")\n",
    "p.add_mesh(opal, color=\"blue\")\n",
    "p.add_mesh(boundary, color=\"yellow\")"
   ]
  },
  {
   "cell_type": "code",
   "execution_count": 38,
   "metadata": {
    "scrolled": true,
    "slideshow": {
     "slide_type": "subslide"
    }
   },
   "outputs": [
    {
     "data": {
      "application/vnd.jupyter.widget-view+json": {
       "model_id": "f74154fcd18b4250a7159c873a2596f6",
       "version_major": 2,
       "version_minor": 0
      },
      "text/plain": [
       "ViewInteractiveWidget(height=768, layout=Layout(height='auto', width='100%'), width=1024)"
      ]
     },
     "metadata": {},
     "output_type": "display_data"
    }
   ],
   "source": [
    "p.show_grid()\n",
    "p.show()"
   ]
  },
  {
   "cell_type": "markdown",
   "metadata": {
    "slideshow": {
     "slide_type": "subslide"
    }
   },
   "source": [
    "### 3D Model\n",
    "\n",
    "We were also given a 3D temperature model in GSLib format: `data/temperature_model.sgems`. There are file readers for this format in many software libraries, but it's useful to show how reading a custom file format can be done using `pandas`.\n",
    "\n",
    "It's also important to note that the GSLib/SGeMS format is a well used standard but it is still not a \"digital\" format. The spatial reference of the grid given is totally absent and typically given in a readme file with the data. In this case, the origin and spacing of the gird are given as:\n",
    "\n",
    "```\n",
    "origin = [325000., 4.245e6, -2700]\n",
    "spacing = [250, 250, 50]\n",
    "```"
   ]
  },
  {
   "cell_type": "code",
   "execution_count": 39,
   "metadata": {
    "slideshow": {
     "slide_type": "subslide"
    }
   },
   "outputs": [
    {
     "name": "stdout",
     "output_type": "stream",
     "text": [
      "100 160 100\r\n",
      "2\r\n",
      "Temperature (C)\t\r\n",
      "variance\r\n",
      "107.475448608\t11614.9433594\r\n",
      "107.438682556\t11599.2001953\r\n",
      "114.550773621\t11703.9541016\r\n",
      "114.49145507799999\t11686.5986328\r\n",
      "114.429496765\t11668.7558594\r\n",
      "114.364952087\t11650.4462891\r\n"
     ]
    }
   ],
   "source": [
    "!head ./forge-demo/data/temperature_model.sgems"
   ]
  },
  {
   "cell_type": "markdown",
   "metadata": {
    "slideshow": {
     "slide_type": "subslide"
    }
   },
   "source": [
    "So it appears we have a header, the number of data arrays, the data titles, then the data arrays as a table."
   ]
  },
  {
   "cell_type": "code",
   "execution_count": 40,
   "metadata": {
    "slideshow": {
     "slide_type": "fragment"
    }
   },
   "outputs": [
    {
     "data": {
      "text/html": [
       "<div>\n",
       "<style scoped>\n",
       "    .dataframe tbody tr th:only-of-type {\n",
       "        vertical-align: middle;\n",
       "    }\n",
       "\n",
       "    .dataframe tbody tr th {\n",
       "        vertical-align: top;\n",
       "    }\n",
       "\n",
       "    .dataframe thead th {\n",
       "        text-align: right;\n",
       "    }\n",
       "</style>\n",
       "<table border=\"1\" class=\"dataframe\">\n",
       "  <thead>\n",
       "    <tr style=\"text-align: right;\">\n",
       "      <th></th>\n",
       "      <th>Temperature (C)</th>\n",
       "      <th>variance</th>\n",
       "    </tr>\n",
       "  </thead>\n",
       "  <tbody>\n",
       "    <tr>\n",
       "      <th>0</th>\n",
       "      <td>107.475449</td>\n",
       "      <td>11614.943359</td>\n",
       "    </tr>\n",
       "    <tr>\n",
       "      <th>1</th>\n",
       "      <td>107.438683</td>\n",
       "      <td>11599.200195</td>\n",
       "    </tr>\n",
       "    <tr>\n",
       "      <th>2</th>\n",
       "      <td>114.550774</td>\n",
       "      <td>11703.954102</td>\n",
       "    </tr>\n",
       "    <tr>\n",
       "      <th>3</th>\n",
       "      <td>114.491455</td>\n",
       "      <td>11686.598633</td>\n",
       "    </tr>\n",
       "    <tr>\n",
       "      <th>4</th>\n",
       "      <td>114.429497</td>\n",
       "      <td>11668.755859</td>\n",
       "    </tr>\n",
       "  </tbody>\n",
       "</table>\n",
       "</div>"
      ],
      "text/plain": [
       "   Temperature (C)      variance\n",
       "0       107.475449  11614.943359\n",
       "1       107.438683  11599.200195\n",
       "2       114.550774  11703.954102\n",
       "3       114.491455  11686.598633\n",
       "4       114.429497  11668.755859"
      ]
     },
     "execution_count": 40,
     "metadata": {},
     "output_type": "execute_result"
    }
   ],
   "source": [
    "with open(\"./forge-demo/data/temperature_model.sgems\", \"r\") as f:\n",
    "    extent = [int(d) for d in f.readline().strip().split()]\n",
    "    n_arrays = int(f.readline().strip())\n",
    "    titles = []\n",
    "    for i in range(n_arrays):\n",
    "        titles.append(f.readline().strip())\n",
    "    model_df = pd.read_table(f, names=titles, delim_whitespace=True)\n",
    "model_df.head()"
   ]
  },
  {
   "cell_type": "code",
   "execution_count": 41,
   "metadata": {
    "slideshow": {
     "slide_type": "subslide"
    }
   },
   "outputs": [
    {
     "data": {
      "text/html": [
       "<table><tr><th>Header</th><th>Data Arrays</th></tr><tr><td>\n",
       "<table>\n",
       "<tr><th>UniformGrid</th><th>Information</th></tr>\n",
       "<tr><td>N Cells</td><td>1600000</td></tr>\n",
       "<tr><td>N Points</td><td>1642361</td></tr>\n",
       "<tr><td>X Bounds</td><td>3.250e+05, 3.500e+05</td></tr>\n",
       "<tr><td>Y Bounds</td><td>4.245e+06, 4.285e+06</td></tr>\n",
       "<tr><td>Z Bounds</td><td>-2.700e+03, 2.300e+03</td></tr>\n",
       "<tr><td>Dimensions</td><td>101, 161, 101</td></tr>\n",
       "<tr><td>Spacing</td><td>2.500e+02, 2.500e+02, 5.000e+01</td></tr>\n",
       "<tr><td>N Arrays</td><td>2</td></tr>\n",
       "</table>\n",
       "\n",
       "</td><td>\n",
       "<table>\n",
       "<tr><th>Name</th><th>Field</th><th>Type</th><th>N Comp</th><th>Min</th><th>Max</th></tr>\n",
       "<tr><td><b>Temperature (C)</b></td><td>Cells</td><td>float64</td><td>1</td><td>6.177e+00</td><td>2.781e+02</td></tr>\n",
       "<tr><td>variance</td><td>Cells</td><td>float64</td><td>1</td><td>1.034e+02</td><td>1.788e+04</td></tr>\n",
       "</table>\n",
       "\n",
       "</td></tr> </table>"
      ],
      "text/plain": [
       "UniformGrid (0x189bac1a0)\n",
       "  N Cells:\t1600000\n",
       "  N Points:\t1642361\n",
       "  X Bounds:\t3.250e+05, 3.500e+05\n",
       "  Y Bounds:\t4.245e+06, 4.285e+06\n",
       "  Z Bounds:\t-2.700e+03, 2.300e+03\n",
       "  Dimensions:\t101, 161, 101\n",
       "  Spacing:\t2.500e+02, 2.500e+02, 5.000e+01\n",
       "  N Arrays:\t2"
      ]
     },
     "execution_count": 41,
     "metadata": {},
     "output_type": "execute_result"
    }
   ],
   "source": [
    "# Now make a grid\n",
    "model = pv.UniformGrid()\n",
    "model.dimensions = np.array(extent) + 1\n",
    "model.spacing = [250, 250, 50]\n",
    "model.origin = [325000., 4.245e6, -2700]\n",
    "for name in model_df.keys():\n",
    "    model[name] = model_df[name].values\n",
    "model"
   ]
  },
  {
   "cell_type": "code",
   "execution_count": 42,
   "metadata": {
    "slideshow": {
     "slide_type": "subslide"
    }
   },
   "outputs": [
    {
     "data": {
      "application/vnd.jupyter.widget-view+json": {
       "model_id": "13f76b06282b42b397114edaaffd6a30",
       "version_major": 2,
       "version_minor": 0
      },
      "text/plain": [
       "ViewInteractiveWidget(height=768, layout=Layout(height='auto', width='100%'), width=1024)"
      ]
     },
     "metadata": {},
     "output_type": "display_data"
    }
   ],
   "source": [
    "model.plot(show_grid=True, cmap=\"coolwarm\")"
   ]
  },
  {
   "cell_type": "markdown",
   "metadata": {
    "slideshow": {
     "slide_type": "subslide"
    }
   },
   "source": [
    "This model has a massive spatial extent. Let's clip it down to our region of interest."
   ]
  },
  {
   "cell_type": "code",
   "execution_count": 43,
   "metadata": {
    "slideshow": {
     "slide_type": "fragment"
    }
   },
   "outputs": [
    {
     "data": {
      "text/html": [
       "<table><tr><th>Header</th><th>Data Arrays</th></tr><tr><td>\n",
       "<table>\n",
       "<tr><th>UnstructuredGrid</th><th>Information</th></tr>\n",
       "<tr><td>N Cells</td><td>2751996</td></tr>\n",
       "<tr><td>N Points</td><td>548393</td></tr>\n",
       "<tr><td>X Bounds</td><td>3.298e+05, 3.442e+05</td></tr>\n",
       "<tr><td>Y Bounds</td><td>4.253e+06, 4.271e+06</td></tr>\n",
       "<tr><td>Z Bounds</td><td>-2.700e+03, 2.300e+03</td></tr>\n",
       "<tr><td>N Arrays</td><td>2</td></tr>\n",
       "</table>\n",
       "\n",
       "</td><td>\n",
       "<table>\n",
       "<tr><th>Name</th><th>Field</th><th>Type</th><th>N Comp</th><th>Min</th><th>Max</th></tr>\n",
       "<tr><td><b>Temperature (C)</b></td><td>Cells</td><td>float64</td><td>1</td><td>6.177e+00</td><td>2.781e+02</td></tr>\n",
       "<tr><td>variance</td><td>Cells</td><td>float64</td><td>1</td><td>1.034e+02</td><td>1.133e+04</td></tr>\n",
       "</table>\n",
       "\n",
       "</td></tr> </table>"
      ],
      "text/plain": [
       "UnstructuredGrid (0x1911ca980)\n",
       "  N Cells:\t2751996\n",
       "  N Points:\t548393\n",
       "  X Bounds:\t3.298e+05, 3.442e+05\n",
       "  Y Bounds:\t4.253e+06, 4.271e+06\n",
       "  Z Bounds:\t-2.700e+03, 2.300e+03\n",
       "  N Arrays:\t2"
      ]
     },
     "execution_count": 43,
     "metadata": {},
     "output_type": "execute_result"
    }
   ],
   "source": [
    "box = topo.bounds\n",
    "box[4:6] = model.bounds[4:6]\n",
    "voi = model.clip_box(box, invert=False)\n",
    "voi"
   ]
  },
  {
   "cell_type": "code",
   "execution_count": 44,
   "metadata": {
    "slideshow": {
     "slide_type": "subslide"
    }
   },
   "outputs": [
    {
     "data": {
      "application/vnd.jupyter.widget-view+json": {
       "model_id": "b24afc2e479a43d88190dff658ed44be",
       "version_major": 2,
       "version_minor": 0
      },
      "text/plain": [
       "ViewInteractiveWidget(height=768, layout=Layout(height='auto', width='100%'), width=1024)"
      ]
     },
     "metadata": {},
     "output_type": "display_data"
    }
   ],
   "source": [
    "p = pv.Plotter(notebook=True)\n",
    "p.add_mesh(topo_tex)\n",
    "p.show_grid()\n",
    "p.add_mesh(voi, cmap=\"coolwarm\")\n",
    "p.show()"
   ]
  },
  {
   "cell_type": "markdown",
   "metadata": {
    "slideshow": {
     "slide_type": "subslide"
    }
   },
   "source": [
    "Okay, but our model still show's data above the topography surface. Let's remove that."
   ]
  },
  {
   "cell_type": "code",
   "execution_count": 45,
   "metadata": {
    "slideshow": {
     "slide_type": "fragment"
    }
   },
   "outputs": [
    {
     "data": {
      "text/html": [
       "<table><tr><th>Header</th><th>Data Arrays</th></tr><tr><td>\n",
       "<table>\n",
       "<tr><th>UnstructuredGrid</th><th>Information</th></tr>\n",
       "<tr><td>N Cells</td><td>2481073</td></tr>\n",
       "<tr><td>N Points</td><td>472076</td></tr>\n",
       "<tr><td>X Bounds</td><td>3.299e+05, 3.442e+05</td></tr>\n",
       "<tr><td>Y Bounds</td><td>4.253e+06, 4.271e+06</td></tr>\n",
       "<tr><td>Z Bounds</td><td>-2.700e+03, 2.300e+03</td></tr>\n",
       "<tr><td>N Arrays</td><td>3</td></tr>\n",
       "</table>\n",
       "\n",
       "</td><td>\n",
       "<table>\n",
       "<tr><th>Name</th><th>Field</th><th>Type</th><th>N Comp</th><th>Min</th><th>Max</th></tr>\n",
       "<tr><td><b>Temperature (C)</b></td><td>Cells</td><td>float64</td><td>1</td><td>6.177e+00</td><td>2.781e+02</td></tr>\n",
       "<tr><td>variance</td><td>Cells</td><td>float64</td><td>1</td><td>1.034e+02</td><td>1.133e+04</td></tr>\n",
       "<tr><td>Extracted</td><td>Cells</td><td>int64</td><td>1</td><td>1.000e+00</td><td>1.000e+00</td></tr>\n",
       "</table>\n",
       "\n",
       "</td></tr> </table>"
      ],
      "text/plain": [
       "UnstructuredGrid (0x1847803d0)\n",
       "  N Cells:\t2481073\n",
       "  N Points:\t472076\n",
       "  X Bounds:\t3.299e+05, 3.442e+05\n",
       "  Y Bounds:\t4.253e+06, 4.271e+06\n",
       "  Z Bounds:\t-2.700e+03, 2.300e+03\n",
       "  N Arrays:\t3"
      ]
     },
     "execution_count": 45,
     "metadata": {},
     "output_type": "execute_result"
    }
   ],
   "source": [
    "subsurface = PVGeo.grids.ExtractTopography(\n",
    "            remove=True, # remove the inactive cells\n",
    "            tolerance=20.0 # buffer around the topo surface\n",
    "           ).apply(voi, topo)\n",
    "subsurface"
   ]
  },
  {
   "cell_type": "markdown",
   "metadata": {
    "slideshow": {
     "slide_type": "subslide"
    }
   },
   "source": [
    "### The Final Scene"
   ]
  },
  {
   "cell_type": "code",
   "execution_count": 48,
   "metadata": {
    "scrolled": true,
    "slideshow": {
     "slide_type": "fragment"
    }
   },
   "outputs": [
    {
     "data": {
      "application/vnd.jupyter.widget-view+json": {
       "model_id": "2f14866f57734e06a75e9e02b29bf124",
       "version_major": 2,
       "version_minor": 0
      },
      "text/plain": [
       "ViewInteractiveWidget(height=768, layout=Layout(height='auto', width='100%'), width=1024)"
      ]
     },
     "metadata": {},
     "output_type": "display_data"
    }
   ],
   "source": [
    "p = pv.Plotter(notebook=True)\n",
    "p.add_mesh(topo_tex)\n",
    "p.add_mesh(temp, cmap=\"coolwarm\", render_points_as_spheres=True, point_size=10)\n",
    "p.add_mesh(granite, color=\"gray\")\n",
    "p.add_mesh(negro, color=\"orange\")\n",
    "p.add_mesh(opal, color=\"blue\")\n",
    "p.show_grid()\n",
    "p.add_mesh(boundary, color=\"yellow\")\n",
    "p.add_mesh_threshold(subsurface, cmap=\"coolwarm\")\n",
    "p.show()"
   ]
  },
  {
   "cell_type": "markdown",
   "metadata": {
    "slideshow": {
     "slide_type": "subslide"
    }
   },
   "source": [
    "### Environment"
   ]
  },
  {
   "cell_type": "code",
   "execution_count": 46,
   "metadata": {
    "slideshow": {
     "slide_type": "fragment"
    }
   },
   "outputs": [
    {
     "data": {
      "text/html": [
       "<table style='border: 3px solid #ddd;'>\n",
       "  <tr>\n",
       "     <td style='text-align: center; font-weight: bold; font-size: 1.2em; border: 2px solid #fff;' colspan='6'>Sun Nov 07 18:26:12 2021 CST</td>\n",
       "  </tr>\n",
       "  <tr>\n",
       "    <td style='text-align: right; background-color: #ccc; border: 2px solid #fff;'>OS</td>\n",
       "    <td style='text-align: left; border: 2px solid #fff;'>Darwin</td>\n",
       "    <td style='text-align: right; background-color: #ccc; border: 2px solid #fff;'>CPU(s)</td>\n",
       "    <td style='text-align: left; border: 2px solid #fff;'>4</td>\n",
       "    <td style='text-align: right; background-color: #ccc; border: 2px solid #fff;'>Machine</td>\n",
       "    <td style='text-align: left; border: 2px solid #fff;'>x86_64</td>\n",
       "  </tr>\n",
       "  <tr>\n",
       "    <td style='text-align: right; background-color: #ccc; border: 2px solid #fff;'>Architecture</td>\n",
       "    <td style='text-align: left; border: 2px solid #fff;'>64bit</td>\n",
       "    <td style='text-align: right; background-color: #ccc; border: 2px solid #fff;'>Environment</td>\n",
       "    <td style='text-align: left; border: 2px solid #fff;'>Jupyter</td>\n",
       "    <td style='text-align: right; background-color: #ccc; border: 2px solid #fff;'>GPU Vendor</td>\n",
       "    <td style='text-align: left; border: 2px solid #fff;'>Intel Inc.</td>\n",
       "  </tr>\n",
       "  <tr>\n",
       "    <td style='text-align: right; background-color: #ccc; border: 2px solid #fff;'>GPU Renderer</td>\n",
       "    <td style='text-align: left; border: 2px solid #fff;'>Intel(R) Iris(TM) Graphics 6100</td>\n",
       "    <td style='text-align: right; background-color: #ccc; border: 2px solid #fff;'>GPU Version</td>\n",
       "    <td style='text-align: left; border: 2px solid #fff;'>4.1 INTEL-10.36.32</td>\n",
       "  </tr>\n",
       "  <tr>\n",
       "     <td style='text-align: center; border: 2px solid #fff;' colspan='6'>Python 3.7.10 | packaged by conda-forge | (default, Feb 19 2021, 15:59:12) \n",
       "[Clang 11.0.1 ]</td>\n",
       "  </tr>\n",
       "  <tr>\n",
       "    <td style='text-align: right; background-color: #ccc; border: 2px solid #fff;'>appdirs</td>\n",
       "    <td style='text-align: left; border: 2px solid #fff;'>1.4.4</td>\n",
       "    <td style='text-align: right; background-color: #ccc; border: 2px solid #fff;'>cmocean</td>\n",
       "    <td style='text-align: left; border: 2px solid #fff;'>2.0</td>\n",
       "    <td style='text-align: right; background-color: #ccc; border: 2px solid #fff;'>colorcet</td>\n",
       "    <td style='text-align: left; border: 2px solid #fff;'>1.0.0</td>\n",
       "  </tr>\n",
       "  <tr>\n",
       "    <td style='text-align: right; background-color: #ccc; border: 2px solid #fff;'>imageio</td>\n",
       "    <td style='text-align: left; border: 2px solid #fff;'>2.9.0</td>\n",
       "    <td style='text-align: right; background-color: #ccc; border: 2px solid #fff;'>IPython</td>\n",
       "    <td style='text-align: left; border: 2px solid #fff;'>7.24.1</td>\n",
       "    <td style='text-align: right; background-color: #ccc; border: 2px solid #fff;'>ipyvtklink</td>\n",
       "    <td style='text-align: left; border: 2px solid #fff;'>0.2.1</td>\n",
       "  </tr>\n",
       "  <tr>\n",
       "    <td style='text-align: right; background-color: #ccc; border: 2px solid #fff;'>matplotlib</td>\n",
       "    <td style='text-align: left; border: 2px solid #fff;'>3.4.2</td>\n",
       "    <td style='text-align: right; background-color: #ccc; border: 2px solid #fff;'>meshio</td>\n",
       "    <td style='text-align: left; border: 2px solid #fff;'>4.4.6</td>\n",
       "    <td style='text-align: right; background-color: #ccc; border: 2px solid #fff;'>numpy</td>\n",
       "    <td style='text-align: left; border: 2px solid #fff;'>1.21.0</td>\n",
       "  </tr>\n",
       "  <tr>\n",
       "    <td style='text-align: right; background-color: #ccc; border: 2px solid #fff;'>pandas</td>\n",
       "    <td style='text-align: left; border: 2px solid #fff;'>1.2.5</td>\n",
       "    <td style='text-align: right; background-color: #ccc; border: 2px solid #fff;'>PVGeo</td>\n",
       "    <td style='text-align: left; border: 2px solid #fff;'>2.1.0</td>\n",
       "    <td style='text-align: right; background-color: #ccc; border: 2px solid #fff;'>pyvista</td>\n",
       "    <td style='text-align: left; border: 2px solid #fff;'>0.31.dev0</td>\n",
       "  </tr>\n",
       "  <tr>\n",
       "    <td style='text-align: right; background-color: #ccc; border: 2px solid #fff;'>scipy</td>\n",
       "    <td style='text-align: left; border: 2px solid #fff;'>1.6.3</td>\n",
       "    <td style='text-align: right; background-color: #ccc; border: 2px solid #fff;'>scooby</td>\n",
       "    <td style='text-align: left; border: 2px solid #fff;'>0.5.7</td>\n",
       "    <td style='text-align: right; background-color: #ccc; border: 2px solid #fff;'>shapefile</td>\n",
       "    <td style='text-align: left; border: 2px solid #fff;'>2.1.3</td>\n",
       "  </tr>\n",
       "  <tr>\n",
       "    <td style='text-align: right; background-color: #ccc; border: 2px solid #fff;'>sklearn</td>\n",
       "    <td style='text-align: left; border: 2px solid #fff;'>0.24.2</td>\n",
       "    <td style='text-align: right; background-color: #ccc; border: 2px solid #fff;'>tqdm</td>\n",
       "    <td style='text-align: left; border: 2px solid #fff;'>4.61.1</td>\n",
       "    <td style='text-align: right; background-color: #ccc; border: 2px solid #fff;'>vtk</td>\n",
       "    <td style='text-align: left; border: 2px solid #fff;'>9.0.1</td>\n",
       "  </tr>\n",
       "</table>"
      ],
      "text/plain": [
       "\n",
       "--------------------------------------------------------------------------------\n",
       "  Date: Sun Nov 07 18:26:11 2021 CST\n",
       "\n",
       "                OS : Darwin\n",
       "            CPU(s) : 4\n",
       "           Machine : x86_64\n",
       "      Architecture : 64bit\n",
       "       Environment : Jupyter\n",
       "        GPU Vendor : Intel Inc.\n",
       "      GPU Renderer : Intel(R) Iris(TM) Graphics 6100\n",
       "       GPU Version : 4.1 INTEL-10.36.32\n",
       "\n",
       "  Python 3.7.10 | packaged by conda-forge | (default, Feb 19 2021, 15:59:12)\n",
       "  [Clang 11.0.1 ]\n",
       "\n",
       "             PVGeo : 2.1.0\n",
       "         shapefile : 2.1.3\n",
       "            pandas : 1.2.5\n",
       "           sklearn : 0.24.2\n",
       "           pyvista : 0.31.dev0\n",
       "               vtk : 9.0.1\n",
       "             numpy : 1.21.0\n",
       "           imageio : 2.9.0\n",
       "           appdirs : 1.4.4\n",
       "            scooby : 0.5.7\n",
       "            meshio : 4.4.6\n",
       "        matplotlib : 3.4.2\n",
       "           IPython : 7.24.1\n",
       "          colorcet : 1.0.0\n",
       "           cmocean : 2.0\n",
       "        ipyvtklink : 0.2.1\n",
       "             scipy : 1.6.3\n",
       "              tqdm : 4.61.1\n",
       "--------------------------------------------------------------------------------"
      ]
     },
     "execution_count": 46,
     "metadata": {},
     "output_type": "execute_result"
    }
   ],
   "source": [
    "pv.Report([\"PVGeo\", \"shapefile\", \"pandas\", \"sklearn\"], sort=True)"
   ]
  },
  {
   "cell_type": "markdown",
   "metadata": {
    "slideshow": {
     "slide_type": "slide"
    }
   },
   "source": [
    "# 下节课预告\n",
    "<br/>\n",
    "\n",
    "<center class=\"half\">\n",
    "    <img src=\"./fig/geo.gif\" style=\"float: center; width:600px\"/> \n",
    "</center>  "
   ]
  }
 ],
 "metadata": {
  "celltoolbar": "Slideshow",
  "kernelspec": {
   "display_name": "Python 3",
   "language": "python",
   "name": "python3"
  },
  "language_info": {
   "codemirror_mode": {
    "name": "ipython",
    "version": 3
   },
   "file_extension": ".py",
   "mimetype": "text/x-python",
   "name": "python",
   "nbconvert_exporter": "python",
   "pygments_lexer": "ipython3",
   "version": "3.7.10"
  },
  "livereveal": {
   "autolaunch": true,
   "scroll": true,
   "start_slideshow_at": "selected"
  }
 },
 "nbformat": 4,
 "nbformat_minor": 2
}
