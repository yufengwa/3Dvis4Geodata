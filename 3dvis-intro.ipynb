{
 "cells": [
  {
   "cell_type": "markdown",
   "metadata": {
    "slideshow": {
     "slide_type": "skip"
    }
   },
   "source": [
    "地学数据三维可视化课件第一节：简介"
   ]
  },
  {
   "cell_type": "markdown",
   "metadata": {
    "slideshow": {
     "slide_type": "slide"
    }
   },
   "source": [
    "# <center>地学数据三维可视化-简介</center>\n",
    "<br/>\n",
    "\n",
    "[<center><img src=\"./fig/utahforge.jpg\" style=\"float: center; height:380px\" /><center>](https://utahforge.com/laboratory/earth-model/)\n",
    "\n",
    "<br/>\n",
    "    \n",
    "<div style=\"clear: both\"></div>\n",
    "<center>汪宇锋</center>\n",
    "<div style=\"clear: both\"></div>\n",
    "<center>地球物理与空间信息学院</center>\n",
    "<div style=\"clear: both\"></div>\n",
    "<center>2021年11月</center>\n"
   ]
  },
  {
   "cell_type": "markdown",
   "metadata": {
    "slideshow": {
     "slide_type": "subslide"
    }
   },
   "source": [
    "## 本课程内容\n",
    "<br/>\n",
    "\n",
    "* 地学数据三维可视化简介\n",
    "* 科学可视化工具简介\n",
    "* 基于Madagascar的地学数据三维可视化；\n",
    "* 基于VisPy的地震数据可视化；\n",
    "* 基于PyVista的多地球物理数据可视化；\n",
    "* 基于vedo的地热场三维可视化；\n",
    "* 基于Mayavi的地学数据三维可视化；\n",
    "* 基于ParaView的地学数据三维可视化。\n"
   ]
  },
  {
   "cell_type": "markdown",
   "metadata": {
    "slideshow": {
     "slide_type": "subslide"
    }
   },
   "source": [
    "## 本课程目标\n",
    "<br/>\n",
    "\n",
    "* 了解地学数据三维可视化的基本概念；\n",
    "* 掌握一些基于开源可视化工具的地学数据可视化方法；\n",
    "* 能够独立实现地学数据的三维可视化；\n",
    "* 简单掌握Linux、Jupyter Notebook、Madagascar等工具。\n"
   ]
  },
  {
   "cell_type": "markdown",
   "metadata": {
    "slideshow": {
     "slide_type": "subslide"
    }
   },
   "source": [
    "## 本课程课件\n",
    "<br/>\n",
    "\n",
    "* 本课程课件可在GitHub上下载（https://github.com/yufengwa/3Dvis4Geodata);\n",
    "* 本课程网站正在准备中；\n",
    "* 本课程注重学生动手能力，课程最终考查方式（大作业）:\n",
    "    - 提交可进行地学数据三维可视化的Jupyter Notebook；\n",
    "    - 小组三维地学数据可视化结果展示.\n",
    "* 成绩计算方式：出勤10%+课堂20%+大作业70%.\n",
    "\n"
   ]
  },
  {
   "cell_type": "markdown",
   "metadata": {
    "slideshow": {
     "slide_type": "slide"
    }
   },
   "source": [
    "## 什么是可视化\n",
    "<br/>\n",
    "<center><img src=\"./fig/data2fig.png\" style=\"float: center; height:440px\" /><center>"
   ]
  },
  {
   "cell_type": "markdown",
   "metadata": {
    "slideshow": {
     "slide_type": "subslide"
    }
   },
   "source": [
    "## 什么是可视化\n",
    "<br/>\n",
    "<center><img src=\"./fig/fifa.gif\" style=\"float: center; height:680px\" /><center>"
   ]
  },
  {
   "cell_type": "markdown",
   "metadata": {
    "slideshow": {
     "slide_type": "subslide"
    }
   },
   "source": [
    "## 什么是可视化\n",
    "<br/>\n",
    "<center><img src=\"./fig/lol.gif\" style=\"float: center; height:680px\" /><center>"
   ]
  },
  {
   "cell_type": "markdown",
   "metadata": {
    "slideshow": {
     "slide_type": "subslide"
    }
   },
   "source": [
    "## 什么是可视化\n",
    "<br/>\n",
    "\n",
    "<p style=\"text-align:center\">“The purpose of computing is insight not numbers.” </p>\n",
    "<p style=\"text-align:right\">-- R. W. Hamming (1961) </p>\n",
    "<div style=\"clear: both\"></div>"
   ]
  },
  {
   "cell_type": "markdown",
   "metadata": {
    "slideshow": {
     "slide_type": "fragment"
    }
   },
   "source": [
    "* 可视化的首要目标是洞察数据所表达的信息，它将多重属性的信息和多维度的数据以图、表、符号等直观的方式呈现出来；\n",
    "* 可视化需要一系列软硬件的支撑，如GPU和高分辨率显示器、可视化软件、数据库技术、高速网络等。"
   ]
  },
  {
   "cell_type": "markdown",
   "metadata": {
    "slideshow": {
     "slide_type": "subslide"
    }
   },
   "source": [
    "## 什么是可视化\n",
    "\n",
    "<center><img src=\"./fig/hardware.png\" style=\"float: center; height:500px\" /><center>"
   ]
  },
  {
   "cell_type": "markdown",
   "metadata": {
    "slideshow": {
     "slide_type": "subslide"
    }
   },
   "source": [
    "## 什么是可视化\n",
    "<br/>\n",
    "\n",
    "* 信息可视化（InfoVis）\n",
    "  1. 多属性对象描述，如岩石矿物的岩性、颜色、结构等；\n",
    "  2. 统计学信息，如疫情分布、天然地震数据统计等。\n"
   ]
  },
  {
   "cell_type": "markdown",
   "metadata": {
    "slideshow": {
     "slide_type": "fragment"
    }
   },
   "source": [
    "* 科学可视化（SciVis）\n",
    "  1. 三维空间的物理量，如地下介质的速度和密度分布等；\n",
    "  2. 三维几何形态的物体，如飞机、建筑物、蛋白质分子结构等；\n",
    "  3. 时空物理场，如电磁场、地震波场等。\n"
   ]
  },
  {
   "cell_type": "markdown",
   "metadata": {
    "slideshow": {
     "slide_type": "subslide"
    }
   },
   "source": [
    "## 科学可视化\n",
    "<br/>\n",
    "\n",
    "<font size=6.5>\n",
    "    \n",
    "- 科学可视化是科学之中的一个跨学科研究与应用领域，主要关注的是三维现象的可视化，如建筑学、气象学、医学或生物学方面的各种系统。重点在于对体、面以及光源等等的逼真渲染，或许甚至还包括某种动态（时间）成分。\n",
    "\n",
    "    \n",
    "- 科学可视化本身并不是最终目的，而是许多科学技术工作的一个构成要素。这些工作之中通常会包括对于科学技术数据和模型的解释、操作与处理。科学工作者对数据加以可视化，旨在寻找其中的种种模式、特点、关系以及异常情况；换句话说，也就是为了帮助理解。因此，应当把可视化看作是任务驱动型，而不是数据驱动型。\n",
    "    </font>"
   ]
  },
  {
   "cell_type": "markdown",
   "metadata": {
    "slideshow": {
     "slide_type": "subslide"
    }
   },
   "source": [
    "## 科学可视化应用\n",
    "<br/>\n",
    "\n",
    "<center><img src=\"./fig/scivis.png\" style=\"float: center; height:700px\" /><center>"
   ]
  },
  {
   "cell_type": "markdown",
   "metadata": {
    "slideshow": {
     "slide_type": "subslide"
    }
   },
   "source": [
    "## 科学可视化应用\n",
    "<br/>\n",
    "\n",
    "[<center><img src=\"./fig/casp14_predictions.gif\" style=\"float: center; height:500px\" /><center>](https://deepmind.com/blog/article/AlphaFold-Using-AI-for-scientific-discovery)\n",
    "    (Credit by DeepMind, AlphaFold)"
   ]
  },
  {
   "cell_type": "markdown",
   "metadata": {
    "slideshow": {
     "slide_type": "subslide"
    }
   },
   "source": [
    "## 什么是地学数据三维可视化\n",
    "<br/>\n",
    "\n",
    "* 地学数据通常是由三维空间中的介质参数（如地震速度、密度、电导率、磁导率、孔隙度、矿物含量等）和物理观测数据（重磁电震剖面、测井曲线、岩芯等）组成，因此地学数据三维可视化也是科学数据可视化的一种应用方向；\n",
    "\n",
    "* 地学数据三维可视化技术可让我们直观、清晰、全面地了解地学数据及其空间分布特征，有助于我们探索观测数据与介质参数分布之间的关系，从而为数据解释、项目决策、风险评估等提供可靠依据。"
   ]
  },
  {
   "cell_type": "code",
   "execution_count": 16,
   "metadata": {
    "scrolled": true,
    "slideshow": {
     "slide_type": "subslide"
    }
   },
   "outputs": [
    {
     "data": {
      "text/html": [
       "<iframe  width=\"560\" height=\"315\" src=\"https://www.youtube-nocookie.com/embed/j8qxqsgX1Nc\" title=\"YouTube video player\" frameborder=\"0\" allow=\"accelerometer; autoplay; clipboard-write; encrypted-media; gyroscope; picture-in-picture\" allowfullscreen></iframe>"
      ],
      "text/plain": [
       "<IPython.core.display.HTML object>"
      ]
     },
     "execution_count": 16,
     "metadata": {},
     "output_type": "execute_result"
    }
   ],
   "source": [
    "from IPython.display import HTML\n",
    "HTML('<iframe  width=\"560\" height=\"315\" src=\"https://www.youtube-nocookie.com/embed/j8qxqsgX1Nc\" title=\"YouTube video player\" frameborder=\"0\" allow=\"accelerometer; autoplay; clipboard-write; encrypted-media; gyroscope; picture-in-picture\" allowfullscreen></iframe>')"
   ]
  },
  {
   "cell_type": "markdown",
   "metadata": {
    "slideshow": {
     "slide_type": "slide"
    }
   },
   "source": [
    "## 地学数据三维可视化实例\n",
    "<br/>\n",
    "\n",
    "* 地震资料解释；\n",
    "* GPR数据解释；\n",
    "* 地热能开发三维地质建模；\n",
    "* 火山模型；\n",
    "* 多地球物理数据融合。"
   ]
  },
  {
   "cell_type": "markdown",
   "metadata": {
    "slideshow": {
     "slide_type": "subslide"
    }
   },
   "source": [
    "### 地震资料解释\n",
    "<br/>\n",
    "\n",
    "<center>\n",
    "    <center><img src=\"./fig/Camera.gif\" height=\"600\" /><center>"
   ]
  },
  {
   "cell_type": "markdown",
   "metadata": {
    "slideshow": {
     "slide_type": "subslide"
    }
   },
   "source": [
    "### 地震资料解释\n",
    "<br/>\n",
    "\n",
    "<table>\n",
    "  <tr>\n",
    "    <td><img src=\"./fig/FaultSemblance.png\"  height:220px\" /></td>\n",
    "    <td><img src=\"./fig/FaultSurfaces.png\"  height:220px\" /></td>\n",
    "    <td><img src=\"./fig/VotingScores.png\" height:220px\" /></td>     \n",
    "  </tr>\n",
    " </table>\n",
    "\n",
    "\n"
   ]
  },
  {
   "cell_type": "markdown",
   "metadata": {
    "slideshow": {
     "slide_type": "subslide"
    }
   },
   "source": [
    "### GPR数据解释\n",
    "<br/>\n",
    "\n",
    "<center><img src=\"./fig/gpr-line.gif\" style=\"float: center; height:700px\" /><center>"
   ]
  },
  {
   "cell_type": "markdown",
   "metadata": {
    "slideshow": {
     "slide_type": "subslide"
    }
   },
   "source": [
    "### 地热能开发三维地质建模\n",
    "<br/>\n",
    "\n",
    "<center><img src=\"./fig/forge-iso.png\" style=\"float: center; height:600px\" /><center>"
   ]
  },
  {
   "cell_type": "markdown",
   "metadata": {
    "slideshow": {
     "slide_type": "subslide"
    }
   },
   "source": [
    "### 火山模型\n",
    "<br/>\n",
    "\n",
    "<center><img src=\"./fig/volcano.png\" style=\"float: center; height:600px\" /><center>"
   ]
  },
  {
   "cell_type": "markdown",
   "metadata": {
    "slideshow": {
     "slide_type": "subslide"
    }
   },
   "source": [
    "### 多地球物理数据融合\n",
    "<br/>\n",
    "<center><img src=\"./fig/data-types.png\" style=\"float: center; height:600px\" /><center>"
   ]
  },
  {
   "cell_type": "markdown",
   "metadata": {
    "slideshow": {
     "slide_type": "subslide"
    }
   },
   "source": [
    "### 多地球物理数据融合\n",
    "<br/>\n",
    "\n",
    "<table>\n",
    "  <tr>\n",
    "    <td><img src=\"./fig/integrated-scene.png\" style=\"float: left; height:450px\" /></td>\n",
    "    <td><img src=\"./fig/interactive.gif\" style=\"float: left; height:450px\" /></td>   \n",
    "  </tr>\n",
    " </table>\n",
    "\n"
   ]
  },
  {
   "cell_type": "markdown",
   "metadata": {
    "slideshow": {
     "slide_type": "subslide"
    }
   },
   "source": [
    "### 多地球物理数据融合\n",
    "<br/>\n",
    "\n",
    "<table>\n",
    "  <tr>\n",
    "    <td><img src=\"./fig/craig-example2.png\" style=\"float: left; height:450px\" /></td>\n",
    "    <td><img src=\"./fig/craig-example.png\" style=\"float: left; height:450px\" /></td>   \n",
    "  </tr>\n",
    " </table>\n",
    "\n"
   ]
  },
  {
   "cell_type": "code",
   "execution_count": 1,
   "metadata": {
    "slideshow": {
     "slide_type": "subslide"
    }
   },
   "outputs": [],
   "source": [
    "import vedo\n",
    "\n",
    "!vedo geo_scene.npz"
   ]
  },
  {
   "cell_type": "markdown",
   "metadata": {
    "slideshow": {
     "slide_type": "subslide"
    }
   },
   "source": [
    "# 参考资料\n",
    "<br/>\n",
    "<font size=6>\n",
    "    \n",
    "* [**Madagascar**](https://reproducibility.org/wiki/Main_Page) is an open-source software package for multidimensional data analysis and reproducible computational experiments.\n",
    "* [**VisPy**](https://vispy.org/) is a high-performance interactive 2D/3D data visualization library leveraging the computational power of modern Graphics Processing Units (GPUs) through the OpenGL library to display very large datasets.\n",
    "* [**PyVista**](https://docs.pyvista.org/) is a helper module for the Visualization Toolkit (VTK) that takes a different approach on interfacing with VTK through NumPy and direct array access.\n",
    "* [**vedo**](https://vedo.embl.es/#refs) is a fast and lightweight python module for scientific analysis and visualization of 3d objects.   \n",
    "* [**Mayavi**](https://docs.enthought.com/mayavi/mayavi/) is a application and library for interactive scientific data visualization and 3D plotting in Python.\n",
    "* [**ParaView**](https://www.paraview.org/) is an open-source, multi-platform data analysis and visualization application.\n",
    "    \n",
    "    </font>"
   ]
  },
  {
   "cell_type": "markdown",
   "metadata": {
    "slideshow": {
     "slide_type": "subslide"
    }
   },
   "source": [
    "# [Unix/Linux简介](https://www.oreilly.com/library/view/running-linux-third/156592469X/ch01s02.html)\n",
    "<br/>\n",
    "<font size=6>\n",
    "    \n",
    "- **Unix** is one of the most popular operating systems worldwide because of its large support base and distribution. It was originally developed as a multitasking system for minicomputers and mainframes in the mid-1970s.    \n",
    " \n",
    "- The real reason for Unix’s popularity? Many hackers feel that Unix is the Right Thing—the One True Operating System. Hence, the development of Linux by an expanding group of Unix hackers who want to get their hands dirty with their own system.\n",
    "    \n",
    "- **Linux** is a freely distributable version of Unix, created in the early 1990s by Finnish software engineer **Linus Torvalds** and the Free Software Foundation (FSF).\n",
    "    - 1985 Free Software Foundation (FSF) founded by **Richard Stallman**. Along with other programmers creates the tools needed to make a UNIX compatible OS.\n",
    "    \n",
    "    - 1985 Professor **Andy Tannenbaum** creates a UNIX like operating system based on System V Unix for the IBM PC & PC/AT computers.  It is called **Minix**.\n",
    "    \n",
    "    - 1989 Richard Stallman releases GPL and **GNU** software but lacks a free kernel.\n",
    "    \n",
    "    - 1991 Building on the concepts in Minix, **Linus Torvalds** (Finnish college student) develops **Linux** along with help from other users on the web.\n",
    "  \n",
    " </font>"
   ]
  },
  {
   "cell_type": "markdown",
   "metadata": {
    "slideshow": {
     "slide_type": "subslide"
    }
   },
   "source": [
    "# Unix/Linux先驱\n",
    "<br/>\n",
    "    \n",
    "  <tr>\n",
    "    <td><img src=\"./fig/andy.jpeg\" style=\"float: left; height:500px\" /></td>\n",
    "    <td><img src=\"./fig/richard.jpeg\" style=\"float: left; height:500px\" /></td>   \n",
    "    <td><img src=\"./fig/linus.jpeg\" style=\"float: left; height:500px\" /></td>  \n",
    "  </tr>\n",
    " </table>\n"
   ]
  },
  {
   "cell_type": "markdown",
   "metadata": {
    "slideshow": {
     "slide_type": "subslide"
    }
   },
   "source": [
    "# What Linux is?\n",
    "\n",
    "- Strictly speaking Linux refers to the kernel.\n",
    "- GNU/Linux more accurately describes the Operating System. Linux Kernel combined with GNU utilities and libraries.\n",
    "- Distribution - GNU/Linux bundled with other applications.  Examples Red Hat Linux, Debian, Ubuntu, Suse, Knoppix, etc.\n",
    "- Distributions can be compiled and maintained by an individual or corporation. Can be small (single floppy disk) or span several CD/DVDs. (see www.distrowatch.com for more information)\n"
   ]
  },
  {
   "cell_type": "markdown",
   "metadata": {
    "slideshow": {
     "slide_type": "subslide"
    }
   },
   "source": [
    "# Open Source Software\n",
    "\n",
    "- Open Source Software (OSS) generally refers to software for which the source code is available and which the licensing scheme permits the user to modify it and redistribute it in modified or unmodified form.\n",
    "- Nobody should be restricted by the software they use. There are four freedoms that every user should have:\n",
    "    - the freedom to use the software for any purpose, \n",
    "    - the freedom to change the software to suit your needs, \n",
    "    - the freedom to share the software with your friends and neighbors, and \n",
    "    - the freedom to share the changes you make. \n",
    "- When a program offers users all of these freedoms, we call it free software (https://www.gnu.org/).\n",
    "\n"
   ]
  },
  {
   "cell_type": "markdown",
   "metadata": {
    "slideshow": {
     "slide_type": "subslide"
    }
   },
   "source": [
    "## Build my Linux OS from scratch\n",
    "\n",
    "- Download [https://ubuntu.com/download/desktop Ubuntu 20.04.1 LTS] and make the U disk system\n",
    "    - `sudo fdisk -l` to check your disk (/dev/sdc for example).\n",
    "    - Format your U disk `sudo umount /media/disk` and then `sudo mkfs.vfat /dev/sdc`.\n",
    "    - `sudo dd if=/home/wyf/Downloads/ubuntu-20.04.1-desktop-amd64.iso of=/dev/sdc` where `/dev/sdc` is the U disk \n",
    "    \n",
    "- Add super user \n",
    "    - `sudo passwd root`\n",
    "    - `chmod u+w /etc/sudoers`\n",
    "    - `su; vi /etc/sudoers` and add `wyf ALL=(ALL) ALL`\n",
    "    - `chmod u-w /etc/sudoers`\n",
    "    "
   ]
  },
  {
   "cell_type": "markdown",
   "metadata": {
    "slideshow": {
     "slide_type": "subslide"
    }
   },
   "source": [
    "- Add domestic source for Ubuntu\n",
    "\t- `sudo cp /etc/apt/sources.list /etc/apt/sources.list.bak`\n",
    "\t- `sudo vim /etc/apt/sources.list` and add *mirrorsaliyun.com* or *mirrors.tuna.tsinghua.edu.cn* source\n",
    "\t- `sudo apt update` If GPG Error use `sudo apt-key adv --keyserver keyserver.ubuntu.com --recv-keys AFSRE5TRQR3WR(public key in error log)`\t\n",
    "- `sudo apt install aptitude; sudo aptitude update; sudo aptitude install build-essential`\n",
    "- Install some useful packages: `sudo apt install make gcc g++ scons git tree`"
   ]
  },
  {
   "cell_type": "markdown",
   "metadata": {
    "slideshow": {
     "slide_type": "subslide"
    }
   },
   "source": [
    "\n",
    "- Install [https://code.visualstudio.com/ VS Code]\t\n",
    "\n",
    "- Install Texlive 2020\t\n",
    "\t- Download [https://mirrors.tuna.tsinghua.edu.cn/CTAN/systems/texlive/Images/ Texlive 2020]\n",
    "\t- `sudo mkdir /media/texlive`\n",
    "\t- `sudo mount -o loop *texlive2020.iso /media/texlive`\n",
    "\t- `sudo ./media/texlive/install-tl`\n",
    "\t- Edit env path\n",
    "\t\t+ `echo \"export MANPATH=${MANPATH}:/usr/local/texlive/2020/texmf-dist/doc/man\" >> ~/.bashrc`\n",
    "        + `echo \"export INFOPATH=${INFOPATH}:/usr/local/texlive/2020/texmf-dist/doc/info\" >> ~/.bashrc`\n",
    "\t\t+ `echo \"export PATH=${PATH}:/usr/local/texlive/2020/bin/x86_64-linux\" >> ~/.bashrc`\n",
    "\t\t+ `source .bashrc`\n",
    "\n"
   ]
  },
  {
   "cell_type": "markdown",
   "metadata": {
    "slideshow": {
     "slide_type": "subslide"
    }
   },
   "source": [
    "- Install Anaconda3.8 and some packages (TensorFlow2.3, PyTorch)\n",
    "\t- Download [https://www.anaconda.com/products/individual Anaconda3] and `bash Anaconda3.8.sh`\n",
    "\t- `conda create -n envname python.version` to create a new environment with specific python version;\n",
    "\t- Share env to YMAL file\n",
    "\t\t+ `conda env export > environment.yaml`;\n",
    "\t\t+ `conda env create -f environment.yaml`;\n",
    "\t- Install TensorFlow 2.3\n",
    "\t\t+ `conda create -n tf23`\n",
    "        + `conda install cudatoolkit=10.1`\n",
    "\t\t+ `conda install cudnn=7.6.5`\n",
    "\t\t+ `pip install tensorflow-gpu==2.3.0`\n",
    "\t- Install PyTorch\n",
    "\t\t+ `conda create -n pytorch17`\n",
    "\t\t+ `conda install pytorch torchvision torchaudio cudatoolkit=10.2 -c pytorch`\n"
   ]
  },
  {
   "cell_type": "markdown",
   "metadata": {
    "slideshow": {
     "slide_type": "subslide"
    }
   },
   "source": [
    "- Install Matlab 2017a (dvd1.iso, dvd2.iso, crack.rar)\n",
    "\t- `sudo apt install unrar` and `sudo unrar x *.rar`\n",
    "\t- `sudo mkdir /media/matlab`\n",
    "\t- `sudo mount -o loop *dvd1.iso /media/matlab`\n",
    "\t- `sudo /media/matlab/install`\n",
    "\t- After 75% finished, `sudo umount /media/matlab` and `sudo mount -o loop *dvd2.iso /media/matlab` \n",
    "\t- Fill license number in readme.txt file\n",
    "\t- `sudo umount /media/matlab` and `sudo rm -r /media/matlab`\n",
    "\t- Activate Matlab\n",
    "\t\t+ `sudo mkdir /usr/local/MATLAB/R2017a/bin/licenses/`\n",
    "        + `sudo cp license_standalone.lic /usr/local/MATLAB/R2017a/bin/licenses/`\n",
    "\t\t+ `sudo cp libmwservices.so /usr/local/MATLAB/R2017a/bin/glnxa64/`\n",
    "\t\t+ `sudo /usr/local/MATLAB/R2017a/bin/matlab`\n",
    "\t- Edit env path\n",
    "\t\t+ `sudo gedit .bashrc`\n",
    "\t\t+ `export PATH=/usr/local/MATLAB/R2017a/bin:$PATH`\n",
    "\t\t+ `source .bashrc`\n"
   ]
  },
  {
   "cell_type": "markdown",
   "metadata": {
    "slideshow": {
     "slide_type": "subslide"
    }
   },
   "source": [
    "       \n",
    "- Install [http://www.ahay.org/ Madagascar 3.0]\n",
    "\t- `git clone https://github.com/ahay/src RSFSRC`\n",
    "\t- `sudo ln -s /usr/local/MATLAB/R2017a/bin/mex /usr/local/bin/mex`\n",
    "\t- `./configure API=matlab --prefix=$HOME/RSFROOT`\n",
    "\t- Check `config.py` to make sure all essential Madagascar depenency have been install, otherwise, use `sudo aptitude package` with `nYY`\n",
    "\t- `make; sudo make install`\n",
    "\t- `chown -R wyf:wyf $RSFROOT`\n",
    "\t- Edit env path\n",
    "\t\t+ `source ~/RSFROOT/share/madagascar/etc/env.sh`\n",
    "        + `export DATAPATH=~/RSFDATA/`\n",
    "\t\t+ `export RSFFIGS=~/RSFFIGS/`\n",
    "\t- Install *segtex*\n",
    "\t\t+ `git clone https://github.com/SEGTeX/texmf \\$HOME`\n",
    "\t\t+ `texhash`\n",
    "\t\t+ `export LATEX2HTML=$HOME/texmf/latex2html`\n",
    "\t\t+ `source .bashrc`\n",
    "\t- Install [https://www.xm1math.net/texmaker/ TexMaker5.0.4]\n",
    "    \n",
    "    \n",
    "\n",
    "\n"
   ]
  },
  {
   "cell_type": "markdown",
   "metadata": {
    "slideshow": {
     "slide_type": "subslide"
    }
   },
   "source": [
    "# Open Source Software\n",
    "\n",
    "\n",
    "<center><img src=\"./fig/cheatsheetcn.png\" style=\"float: center; height:900px\" /><center>\n",
    "\n"
   ]
  },
  {
   "cell_type": "code",
   "execution_count": 8,
   "metadata": {
    "slideshow": {
     "slide_type": "subslide"
    }
   },
   "outputs": [
    {
     "data": {
      "text/html": [
       "<iframe width=\"1060\" height=\"715\" src=\"https://www.youtube-nocookie.com/embed/BMGixkvJ-6w\" title=\"YouTube video player\" frameborder=\"0\" allow=\"accelerometer; autoplay; clipboard-write; encrypted-media; gyroscope; picture-in-picture\" allowfullscreen></iframe>"
      ],
      "text/plain": [
       "<IPython.core.display.HTML object>"
      ]
     },
     "execution_count": 8,
     "metadata": {},
     "output_type": "execute_result"
    }
   ],
   "source": [
    "from IPython.display import HTML\n",
    "HTML('<iframe width=\"1060\" height=\"715\" src=\"https://www.youtube-nocookie.com/embed/BMGixkvJ-6w\" title=\"YouTube video player\" frameborder=\"0\" allow=\"accelerometer; autoplay; clipboard-write; encrypted-media; gyroscope; picture-in-picture\" allowfullscreen></iframe>')"
   ]
  },
  {
   "cell_type": "code",
   "execution_count": null,
   "metadata": {},
   "outputs": [],
   "source": []
  },
  {
   "cell_type": "code",
   "execution_count": null,
   "metadata": {},
   "outputs": [],
   "source": []
  },
  {
   "cell_type": "code",
   "execution_count": null,
   "metadata": {},
   "outputs": [],
   "source": []
  },
  {
   "cell_type": "markdown",
   "metadata": {
    "slideshow": {
     "slide_type": "subslide"
    }
   },
   "source": [
    "# 下节课预告\n",
    "<br/>\n",
    "<center><img src=\"./fig/landscape-colors.png\" style=\"float: center; height:600px\" /><center>"
   ]
  }
 ],
 "metadata": {
  "celltoolbar": "Slideshow",
  "kernelspec": {
   "display_name": "Python 3 (ipykernel)",
   "language": "python",
   "name": "python3"
  },
  "language_info": {
   "codemirror_mode": {
    "name": "ipython",
    "version": 3
   },
   "file_extension": ".py",
   "mimetype": "text/x-python",
   "name": "python",
   "nbconvert_exporter": "python",
   "pygments_lexer": "ipython3",
   "version": "3.8.8"
  },
  "livereveal": {
   "autolaunch": true,
   "scroll": true,
   "start_slideshow_at": "selected"
  }
 },
 "nbformat": 4,
 "nbformat_minor": 2
}
